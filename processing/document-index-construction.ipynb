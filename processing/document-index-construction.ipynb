{
 "cells": [
  {
   "cell_type": "code",
   "execution_count": 1,
   "metadata": {
    "tags": [
     "outputPrepend",
     "outputPrepend"
    ]
   },
   "outputs": [
    {
     "output_type": "stream",
     "name": "stdout",
     "text": "Requirement already satisfied: pymongo in /home/tobias/anaconda3/lib/python3.7/site-packages (3.10.1)\nRequirement already satisfied: pycld2 in /home/tobias/anaconda3/lib/python3.7/site-packages (0.41)\n"
    }
   ],
   "source": [
    "!pip install pymongo\n",
    "!pip install pycld2"
   ]
  },
  {
   "cell_type": "code",
   "execution_count": 2,
   "metadata": {},
   "outputs": [],
   "source": [
    "from __future__ import print_function\n",
    "\n",
    "import string\n",
    "import re\n",
    "import sys\n",
    "\n",
    "import pycld2 as cld2\n",
    "\n",
    "from multiprocessing.pool import Pool\n",
    "from tqdm._tqdm_notebook import tqdm\n",
    "\n",
    "from IPython.display import display, clear_output\n",
    "\n",
    "import numpy as np\n",
    "import pandas as pd\n",
    "\n",
    "from os import getcwd, pardir\n",
    "from os.path import join, basename\n",
    "\n",
    "from utils.literature import DataLoader, get_document_title, is_english, get_section, get_sections\n",
    "from utils.preprocessing import NLPPipeline, Tokenizer, Stemmer, ToLowercase, Lemmatizer, StopwordRemover, CitationRemover, SymbolRemover, ContentInBracketsRemover\n",
    "from glob import glob\n",
    "\n",
    "import nltk\n",
    "from nltk.corpus import stopwords\n",
    "from nltk.tokenize import word_tokenize, RegexpTokenizer\n",
    "from nltk.stem.porter import PorterStemmer\n",
    "from nltk.stem import WordNetLemmatizer #TODO: Try lemmatizer instead of stemmer\n",
    "\n",
    "import pymongo\n",
    "from pymongo import MongoClient as DBClient"
   ]
  },
  {
   "cell_type": "markdown",
   "metadata": {},
   "source": [
    "nltk.download()"
   ]
  },
  {
   "cell_type": "markdown",
   "metadata": {},
   "source": [
    "## Specification of the document paths\n",
    "\n",
    "- download from: [Kaggle](https://www.kaggle.com/allen-institute-for-ai/CORD-19-research-challenge)\n",
    "- extract folder content to `{ProjectDir}/dataset`"
   ]
  },
  {
   "cell_type": "code",
   "execution_count": 3,
   "metadata": {},
   "outputs": [],
   "source": [
    "root_dir = join(pardir, 'dataset')\n",
    "\n",
    "json_paths = [\n",
    "    join(root_dir, 'arxiv', 'arxiv', 'pdf_json'),\n",
    "    join(root_dir, 'arxiv', 'arxiv', 'pdf_json'),\n",
    "    join(root_dir, 'comm_use_subset', 'comm_use_subset', 'pdf_json'),\n",
    "    join(root_dir, 'noncomm_use_subset', 'noncomm_use_subset', 'pdf_json'),\n",
    "    join(root_dir, 'custom_license', 'custom_license', 'pdf_json'),\n",
    "    join(root_dir, 'biorxiv_medrxiv', 'biorxiv_medrxiv', 'pdf_json'),\n",
    "]\n",
    "\n",
    "files = []\n",
    "[files.extend(glob(join(path, '*.json'))) for path in json_paths];"
   ]
  },
  {
   "cell_type": "markdown",
   "metadata": {},
   "source": [
    "## Building the document index\n",
    "\n",
    "Each document gets stored in the document_index collection with the following layout: \n",
    "```json\n",
    "{\n",
    "    _id: ..., \n",
    "    document_title: ...\n",
    "}\n",
    "```\n",
    "\n",
    "## Building the inverted index\n",
    "\n",
    "```json\n",
    "{\n",
    "    'stem': ...,\n",
    "    'doc_ids': [\n",
    "        {\n",
    "            {'doc_id': ..., \n",
    "             'count': {\n",
    "                 'title': ...,\n",
    "                 'abstract': ...,\n",
    "                 'body_text': ...}\n",
    "             },\n",
    "             {'doc_id': ..., \n",
    "             'count': {\n",
    "                 'title': ...,\n",
    "                 'abstract': ...,\n",
    "                 'body_text': ...}\n",
    "             }\n",
    "        }\n",
    "    ]\n",
    "}\n",
    "```"
   ]
  },
  {
   "cell_type": "code",
   "execution_count": 4,
   "metadata": {},
   "outputs": [],
   "source": [
    "with DBClient('localhost', 27017, w=0) as client:\n",
    "    db = client['covid_19']\n",
    "    document_index_collection = db['document_index']\n",
    "    inverted_index_collection = db['inverted_index']\n",
    "\n",
    "    if '_id' not in document_index_collection.index_information():\n",
    "        document_index_collection.create_index('_id')\n",
    "\n",
    "    inverted_index_collection.create_index([(\"_id\", pymongo.ASCENDING)], background=True)\n",
    "    inverted_index_collection.create_index([(\"doc_ids.doc_id\", pymongo.ASCENDING)], background=True, name='doc_ids.doc_id')"
   ]
  },
  {
   "cell_type": "code",
   "execution_count": 5,
   "metadata": {},
   "outputs": [],
   "source": [
    "pipeline = NLPPipeline([\n",
    "    ToLowercase(),\n",
    "    CitationRemover(),\n",
    "    ContentInBracketsRemover(),\n",
    "    Tokenizer(),\n",
    "    SymbolRemover(),\n",
    "    StopwordRemover(),\n",
    "    Stemmer()\n",
    "])"
   ]
  },
  {
   "cell_type": "code",
   "execution_count": 6,
   "metadata": {},
   "outputs": [],
   "source": [
    "def create_post(stem, doc_id, count_object):\n",
    "    return {'_id': stem, 'doc_ids': [{'doc_id': doc_id, 'count': count_object}]}"
   ]
  },
  {
   "cell_type": "code",
   "execution_count": 7,
   "metadata": {},
   "outputs": [],
   "source": [
    "count_object = {\n",
    "    'title': {'title': 1, 'abstract': 0, 'body_text': 0},\n",
    "    'abstract': {'title': 0, 'abstract': 1, 'body_text': 0},\n",
    "    'body_text': {'title': 0, 'abstract': 0, 'body_text': 1}\n",
    "}"
   ]
  },
  {
   "cell_type": "code",
   "execution_count": 8,
   "metadata": {},
   "outputs": [],
   "source": [
    "def update_document_index(doc_id, document_title, document_index_collection):\n",
    "    doc_id_entry = document_index_collection.find({'_id': doc_id}).limit(1)\n",
    "    if doc_id_entry.count() == 0:\n",
    "        document_index_collection.insert_one({'_id': doc_id, 'document_title': document_title})"
   ]
  },
  {
   "cell_type": "code",
   "execution_count": 9,
   "metadata": {},
   "outputs": [],
   "source": [
    "def update_inverted_index(doc_id, stemmed_tokens, section, inverted_index_collection):\n",
    "    #update inverted index\n",
    "    for stem in stemmed_tokens:\n",
    "        stem_entry = inverted_index_collection.find({'_id': stem}).limit(1)\n",
    "        if stem_entry.count() > 0:\n",
    "            #try to find current document id in stem entry\n",
    "            doc_id_object = inverted_index_collection.find(\n",
    "                {'_id': stem, \n",
    "                'doc_ids': {'$elemMatch': {'doc_id': doc_id}}}).limit(1)\n",
    "            if doc_id_object.count() > 0:\n",
    "                # update occurrence of stem in document section\n",
    "                inverted_index_collection.update(\n",
    "                    {'_id': stem, \n",
    "                    'doc_ids': {'$elemMatch': {'doc_id': doc_id}}},\n",
    "                    {'$inc': {f'doc_ids.$.count.{section}': 1}})\n",
    "            else:\n",
    "                # add document id\n",
    "                inverted_index_collection.update(\n",
    "                    {'_id': stem},\n",
    "                    {'$push': {'doc_ids': {'doc_id': doc_id, 'count': count_object[section]}}})\n",
    "        else:\n",
    "            post = create_post(stem, doc_id, count_object[section])\n",
    "            inverted_index_collection.insert_one(post)"
   ]
  },
  {
   "cell_type": "code",
   "execution_count": 10,
   "metadata": {},
   "outputs": [],
   "source": [
    "def process_chunk(args, update_doc_idx=True, update_inv_indx=True):\n",
    "    with DBClient('localhost', 27017, w=0) as client:\n",
    "\n",
    "        #open a connection to the database\n",
    "        db = client['covid_19']\n",
    "        document_index_collection = db['document_index']\n",
    "        inverted_index_collection = db['inverted_index']\n",
    "        \n",
    "        #iterate over all documents in chunk\n",
    "        for fpath, doc_id in args:\n",
    "            doc_id = int(doc_id)\n",
    "            data_loader = DataLoader(fpath)\n",
    "\n",
    "            doc_title = get_document_title(fpath, data_loader)\n",
    "\n",
    "            if doc_title == '' or not is_english(doc_title):\n",
    "                continue\n",
    "\n",
    "            #database should only contain english documents with an valid document title\n",
    "            if update_doc_idx:\n",
    "                update_document_index(\n",
    "                    doc_id, \n",
    "                    doc_title, \n",
    "                    document_index_collection)\n",
    "\n",
    "            if not update_inverted_index:\n",
    "                continue\n",
    "            \n",
    "            for section in get_sections():\n",
    "                text = get_section(fpath, section, dl=data_loader)\n",
    "                stemmed_tokens = pipeline.transform(text)\n",
    "                update_inverted_index(doc_id, stemmed_tokens, section, inverted_index_collection)"
   ]
  },
  {
   "cell_type": "code",
   "execution_count": 11,
   "metadata": {},
   "outputs": [],
   "source": [
    "def create_chunks(files, chunk_size=128):\n",
    "    doc_ids = list(range(len(files)))\n",
    "    chunks = list()\n",
    "    for i in range(0, len(files), chunk_size):\n",
    "        indices = np.array(doc_ids[i: min(i+chunk_size, len(files))])\n",
    "        chunks.append(list(zip(\n",
    "            files[i: min(i+chunk_size, len(files))], \n",
    "            doc_ids[i: min(i+chunk_size, len(files))])))\n",
    "    return chunks"
   ]
  },
  {
   "cell_type": "code",
   "execution_count": 12,
   "metadata": {
    "tags": [
     "outputPrepend",
     "outputPrepend",
     "outputPrepend",
     "outputPrepend",
     "outputPrepend",
     "outputPrepend",
     "outputPrepend",
     "outputPrepend",
     "outputPrepend",
     "outputPrepend",
     "outputPrepend",
     "outputPrepend",
     "outputPrepend",
     "outputPrepend",
     "outputPrepend",
     "outputPrepend",
     "outputPrepend",
     "outputPrepend",
     "outputPrepend",
     "outputPrepend",
     "outputPrepend",
     "outputPrepend",
     "outputPrepend",
     "outputPrepend",
     "outputPrepend",
     "outputPrepend",
     "outputPrepend",
     "outputPrepend",
     "outputPrepend",
     "outputPrepend",
     "outputPrepend",
     "outputPrepend",
     "outputPrepend",
     "outputPrepend",
     "outputPrepend",
     "outputPrepend",
     "outputPrepend",
     "outputPrepend",
     "outputPrepend",
     "outputPrepend",
     "outputPrepend",
     "outputPrepend",
     "outputPrepend",
     "outputPrepend",
     "outputPrepend",
     "outputPrepend",
     "outputPrepend",
     "outputPrepend",
     "outputPrepend",
     "outputPrepend",
     "outputPrepend",
     "outputPrepend",
     "outputPrepend",
     "outputPrepend",
     "outputPrepend",
     "outputPrepend",
     "outputPrepend",
     "outputPrepend",
     "outputPrepend",
     "outputPrepend",
     "outputPrepend",
     "outputPrepend",
     "outputPrepend",
     "outputPrepend",
     "outputPrepend",
     "outputPrepend",
     "outputPrepend",
     "outputPrepend",
     "outputPrepend",
     "outputPrepend",
     "outputPrepend",
     "outputPrepend",
     "outputPrepend"
    ]
   },
   "outputs": [
    {
     "output_type": "display_data",
     "data": {
      "text/plain": "HBox(children=(FloatProgress(value=0.0, max=385.0), HTML(value='')))",
      "application/vnd.jupyter.widget-view+json": {
       "version_major": 2,
       "version_minor": 0,
       "model_id": "e3a3ea49bac14c8eb82f51f96c04769e"
      }
     },
     "metadata": {}
    },
    {
     "output_type": "stream",
     "name": "stdout",
     "text": "tobias/anaconda3/lib/python3.7/multiprocessing/pool.py\", line 121, in worker\n    result = (True, func(*args, **kwds))\n  File \"/home/tobias/anaconda3/lib/python3.7/multiprocessing/process.py\", line 99, in run\n    self._target(*self._args, **self._kwargs)\n  File \"/home/tobias/anaconda3/lib/python3.7/site-packages/pymongo/cursor.py\", line 446, in limit\n    self.__check_okay_to_chain()\n  File \"/home/tobias/anaconda3/lib/python3.7/site-packages/pymongo/collection.py\", line 856, in _update_retryable\n    _update, session)\n  File \"/home/tobias/anaconda3/lib/python3.7/site-packages/pymongo/collection.py\", line 1600, in _count\n    _cmd, self._read_preference_for(session), session)\n  File \"/home/tobias/anaconda3/lib/python3.7/site-packages/pymongo/collection.py\", line 1594, in _cmd\n    session=session)\n  File \"/home/tobias/anaconda3/lib/python3.7/site-packages/pymongo/collection.py\", line 1600, in _count\n    _cmd, self._read_preference_for(session), session)\n  File \"<ipython-input-10-c9df4c44c7e4>\", line 33, in process_chunk\n    update_inverted_index(doc_id, stemmed_tokens, section, inverted_index_collection)\n  File \"<ipython-input-10-c9df4c44c7e4>\", line 33, in process_chunk\n    update_inverted_index(doc_id, stemmed_tokens, section, inverted_index_collection)\n  File \"<ipython-input-10-c9df4c44c7e4>\", line 33, in process_chunk\n    update_inverted_index(doc_id, stemmed_tokens, section, inverted_index_collection)\n  File \"/home/tobias/anaconda3/lib/python3.7/site-packages/pymongo/cursor.py\", line 787, in count\n    cmd, self.__collation, session=self.__session)\n  File \"/home/tobias/anaconda3/lib/python3.7/site-packages/pymongo/cursor.py\", line 787, in count\n    cmd, self.__collation, session=self.__session)\n  File \"/home/tobias/anaconda3/lib/python3.7/site-packages/pymongo/mongo_client.py\", line 1491, in _retryable_write\n    return self._retry_with_session(retryable, func, s, None)\n  File \"/home/tobias/anaconda3/lib/python3.7/site-packages/pymongo/cursor.py\", line 386, in __check_okay_to_chain\n    def __check_okay_to_chain(self):\n  File \"/home/tobias/anaconda3/lib/python3.7/site-packages/pymongo/collection.py\", line 250, in _command\n    user_fields=user_fields)\n  File \"/home/tobias/anaconda3/lib/python3.7/site-packages/pymongo/mongo_client.py\", line 1464, in _retryable_read\n    return func(session, server, sock_info, slave_ok)\n  File \"/home/tobias/anaconda3/lib/python3.7/site-packages/pymongo/mongo_client.py\", line 1458, in _retryable_read\n    exhaust=exhaust) as (sock_info,\n  File \"/home/tobias/anaconda3/lib/python3.7/multiprocessing/pool.py\", line 121, in worker\n    result = (True, func(*args, **kwds))\n  File \"<ipython-input-9-4c26e153e604>\", line 5, in update_inverted_index\n    if stem_entry.count() > 0:\n  File \"<ipython-input-9-4c26e153e604>\", line 10, in update_inverted_index\n    if doc_id_object.count() > 0:\n  File \"<ipython-input-9-4c26e153e604>\", line 5, in update_inverted_index\n    if stem_entry.count() > 0:\n  File \"/home/tobias/anaconda3/lib/python3.7/site-packages/pymongo/collection.py\", line 1600, in _count\n    _cmd, self._read_preference_for(session), session)\n  File \"/home/tobias/anaconda3/lib/python3.7/site-packages/pymongo/mongo_client.py\", line 1377, in _retry_with_session\n    with self._get_socket(server, session) as sock_info:\nKeyboardInterrupt\n  File \"/home/tobias/anaconda3/lib/python3.7/site-packages/pymongo/pool.py\", line 618, in command\n    self._raise_connection_failure(error)\n  File \"/home/tobias/anaconda3/lib/python3.7/site-packages/pymongo/collection.py\", line 1600, in _count\n    _cmd, self._read_preference_for(session), session)\n  File \"/home/tobias/anaconda3/lib/python3.7/site-packages/pymongo/collection.py\", line 1594, in _cmd\n    session=session)\n  File \"/home/tobias/anaconda3/lib/python3.7/contextlib.py\", line 239, in helper\n    return _GeneratorContextManager(func, args, kwds)\n  File \"/home/tobias/anaconda3/lib/python3.7/site-packages/pymongo/cursor.py\", line 787, in count\n    cmd, self.__collation, session=self.__session)\n  File \"<ipython-input-10-c9df4c44c7e4>\", line 33, in process_chunk\n    update_inverted_index(doc_id, stemmed_tokens, section, inverted_index_collection)\n  File \"/home/tobias/anaconda3/lib/python3.7/site-packages/pymongo/cursor.py\", line 787, in count\n    cmd, self.__collation, session=self.__session)\n  File \"/home/tobias/anaconda3/lib/python3.7/site-packages/pymongo/cursor.py\", line 787, in count\n    cmd, self.__collation, session=self.__session)\n  File \"/home/tobias/anaconda3/lib/python3.7/site-packages/pymongo/pool.py\", line 613, in command\n    user_fields=user_fields)\n  File \"/home/tobias/anaconda3/lib/python3.7/site-packages/pymongo/collection.py\", line 250, in _command\n    user_fields=user_fields)\n  File \"/home/tobias/anaconda3/lib/python3.7/contextlib.py\", line 107, in __enter__\n    def __enter__(self):\n  File \"<ipython-input-9-4c26e153e604>\", line 5, in update_inverted_index\n    if stem_entry.count() > 0:\n  File \"/home/tobias/anaconda3/lib/python3.7/site-packages/pymongo/collection.py\", line 1600, in _count\n    _cmd, self._read_preference_for(session), session)\n  File \"/home/tobias/anaconda3/lib/python3.7/site-packages/pymongo/collection.py\", line 1600, in _count\n    _cmd, self._read_preference_for(session), session)\n  File \"/home/tobias/anaconda3/lib/python3.7/site-packages/pymongo/mongo_client.py\", line 1464, in _retryable_read\n    return func(session, server, sock_info, slave_ok)\n  File \"/home/tobias/anaconda3/lib/python3.7/site-packages/pymongo/collection.py\", line 1600, in _count\n    _cmd, self._read_preference_for(session), session)\n  File \"/home/tobias/anaconda3/lib/python3.7/site-packages/pymongo/network.py\", line 157, in command\n    reply = receive_message(sock, request_id)\nKeyboardInterrupt\n  File \"/home/tobias/anaconda3/lib/python3.7/site-packages/pymongo/mongo_client.py\", line 1464, in _retryable_read\n    return func(session, server, sock_info, slave_ok)\n  File \"/home/tobias/anaconda3/lib/python3.7/site-packages/pymongo/collection.py\", line 1595, in _cmd\n    if res.get(\"errmsg\", \"\") == \"ns missing\":\n  File \"/home/tobias/anaconda3/lib/python3.7/site-packages/pymongo/mongo_client.py\", line 1464, in _retryable_read\n    return func(session, server, sock_info, slave_ok)\n  File \"/home/tobias/anaconda3/lib/python3.7/site-packages/pymongo/network.py\", line 196, in receive_message\n    _receive_data_on_socket(sock, 16))\n  File \"/home/tobias/anaconda3/lib/python3.7/site-packages/pymongo/cursor.py\", line 787, in count\n    cmd, self.__collation, session=self.__session)\n  File \"/home/tobias/anaconda3/lib/python3.7/site-packages/pymongo/mongo_client.py\", line 1464, in _retryable_read\n    return func(session, server, sock_info, slave_ok)\n  File \"<ipython-input-10-c9df4c44c7e4>\", line 33, in process_chunk\n    update_inverted_index(doc_id, stemmed_tokens, section, inverted_index_collection)\n  File \"/home/tobias/anaconda3/lib/python3.7/site-packages/pymongo/collection.py\", line 1594, in _cmd\n    session=session)\n  File \"/home/tobias/anaconda3/lib/python3.7/site-packages/pymongo/network.py\", line 255, in _receive_data_on_socket\n    chunk_length = sock.recv_into(mv[bytes_read:])\n  File \"<ipython-input-9-4c26e153e604>\", line 15, in update_inverted_index\n    {'$inc': {f'doc_ids.$.count.{section}': 1}})\n  File \"/home/tobias/anaconda3/lib/python3.7/contextlib.py\", line 85, in __init__\n    doc = getattr(func, \"__doc__\", None)\nKeyboardInterrupt\n  File \"/home/tobias/anaconda3/lib/python3.7/site-packages/pymongo/collection.py\", line 250, in _command\n    user_fields=user_fields)\nKeyboardInterrupt\n  File \"/home/tobias/anaconda3/lib/python3.7/site-packages/pymongo/collection.py\", line 1594, in _cmd\n    session=session)\nKeyboardInterrupt\n  File \"/home/tobias/anaconda3/lib/python3.7/site-packages/pymongo/collection.py\", line 3215, in update\n    write_concern, collation=collation)\n  File \"/home/tobias/anaconda3/lib/python3.7/site-packages/pymongo/pool.py\", line 618, in command\n    self._raise_connection_failure(error)\n  File \"/home/tobias/anaconda3/lib/python3.7/site-packages/pymongo/mongo_client.py\", line 1464, in _retryable_read\n    return func(session, server, sock_info, slave_ok)\n  File \"/home/tobias/anaconda3/lib/python3.7/site-packages/pymongo/collection.py\", line 1600, in _count\n    _cmd, self._read_preference_for(session), session)\n  File \"/home/tobias/anaconda3/lib/python3.7/site-packages/pymongo/pool.py\", line 613, in command\n    user_fields=user_fields)\n  File \"/home/tobias/anaconda3/lib/python3.7/site-packages/pymongo/collection.py\", line 856, in _update_retryable\n    _update, session)\n  File \"/home/tobias/anaconda3/lib/python3.7/site-packages/pymongo/mongo_client.py\", line 1464, in _retryable_read\n    return func(session, server, sock_info, slave_ok)\n  File \"<ipython-input-9-4c26e153e604>\", line 12, in update_inverted_index\n    inverted_index_collection.update(\n  File \"/home/tobias/anaconda3/lib/python3.7/site-packages/pymongo/network.py\", line 157, in command\n    reply = receive_message(sock, request_id)\n  File \"/home/tobias/anaconda3/lib/python3.7/multiprocessing/pool.py\", line 121, in worker\n    result = (True, func(*args, **kwds))\n  File \"/home/tobias/anaconda3/lib/python3.7/site-packages/pymongo/collection.py\", line 1594, in _cmd\n    session=session)\n  File \"/home/tobias/anaconda3/lib/python3.7/site-packages/pymongo/mongo_client.py\", line 1491, in _retryable_write\n    return self._retry_with_session(retryable, func, s, None)\n  File \"/home/tobias/anaconda3/lib/python3.7/site-packages/pymongo/network.py\", line 196, in receive_message\n    _receive_data_on_socket(sock, 16))\nKeyboardInterrupt\n  File \"/home/tobias/anaconda3/lib/python3.7/site-packages/pymongo/collection.py\", line 250, in _command\n    user_fields=user_fields)\n  File \"<ipython-input-10-c9df4c44c7e4>\", line 33, in process_chunk\n    update_inverted_index(doc_id, stemmed_tokens, section, inverted_index_collection)\n  File \"/home/tobias/anaconda3/lib/python3.7/site-packages/pymongo/pool.py\", line 618, in command\n    self._raise_connection_failure(error)\n  File \"/home/tobias/anaconda3/lib/python3.7/site-packages/pymongo/network.py\", line 255, in _receive_data_on_socket\n    chunk_length = sock.recv_into(mv[bytes_read:])\nKeyboardInterrupt\n  File \"<ipython-input-9-4c26e153e604>\", line 23, in update_inverted_index\n    inverted_index_collection.insert_one(post)\n  File \"/home/tobias/anaconda3/lib/python3.7/site-packages/pymongo/pool.py\", line 613, in command\n    user_fields=user_fields)\n  File \"/home/tobias/anaconda3/lib/python3.7/site-packages/pymongo/collection.py\", line 698, in insert_one\n    session=session),\n  File \"/home/tobias/anaconda3/lib/python3.7/site-packages/pymongo/network.py\", line 129, in command\n    codec_options, ctx=compression_ctx)\n  File \"/home/tobias/anaconda3/lib/python3.7/site-packages/pymongo/collection.py\", line 1594, in _cmd\n    session=session)\n  File \"/home/tobias/anaconda3/lib/python3.7/site-packages/pymongo/collection.py\", line 612, in _insert\n    bypass_doc_val, session)\n  File \"/home/tobias/anaconda3/lib/python3.7/site-packages/pymongo/collection.py\", line 250, in _command\n    user_fields=user_fields)\n  File \"/home/tobias/anaconda3/lib/python3.7/site-packages/pymongo/message.py\", line 684, in _op_msg\n    def _op_msg(flags, command, dbname, read_preference, slave_ok, check_keys,\n  File \"/home/tobias/anaconda3/lib/python3.7/site-packages/pymongo/collection.py\", line 600, in _insert_one\n    acknowledged, _insert_command, session)\n  File \"/home/tobias/anaconda3/lib/python3.7/site-packages/pymongo/pool.py\", line 618, in command\n    self._raise_connection_failure(error)\nKeyboardInterrupt\n  File \"/home/tobias/anaconda3/lib/python3.7/site-packages/pymongo/mongo_client.py\", line 1491, in _retryable_write\n    return self._retry_with_session(retryable, func, s, None)\n  File \"/home/tobias/anaconda3/lib/python3.7/site-packages/pymongo/mongo_client.py\", line 1373, in _retry_with_session\n    server = self._select_server(writable_server_selector, session)\n  File \"/home/tobias/anaconda3/lib/python3.7/site-packages/pymongo/pool.py\", line 613, in command\n    user_fields=user_fields)\n  File \"/home/tobias/anaconda3/lib/python3.7/site-packages/pymongo/collection.py\", line 250, in _command\n    user_fields=user_fields)\n  File \"/home/tobias/anaconda3/lib/python3.7/site-packages/pymongo/pool.py\", line 618, in command\n    self._raise_connection_failure(error)\n  File \"/home/tobias/anaconda3/lib/python3.7/site-packages/pymongo/mongo_client.py\", line 1384, in _retry_with_session\n    return func(session, sock_info, retryable)\n  File \"/home/tobias/anaconda3/lib/python3.7/site-packages/pymongo/network.py\", line 157, in command\n    reply = receive_message(sock, request_id)\n  File \"/home/tobias/anaconda3/lib/python3.7/site-packages/pymongo/pool.py\", line 618, in command\n    self._raise_connection_failure(error)\n  File \"/home/tobias/anaconda3/lib/python3.7/site-packages/pymongo/mongo_client.py\", line 1253, in _select_server\n    server = topology.select_server(server_selector)\n  File \"/home/tobias/anaconda3/lib/python3.7/site-packages/pymongo/collection.py\", line 852, in _update\n    retryable_write=retryable_write)\n  File \"/home/tobias/anaconda3/lib/python3.7/site-packages/pymongo/network.py\", line 196, in receive_message\n    _receive_data_on_socket(sock, 16))\n  File \"/home/tobias/anaconda3/lib/python3.7/site-packages/pymongo/pool.py\", line 613, in command\n    user_fields=user_fields)\n  File \"/home/tobias/anaconda3/lib/python3.7/site-packages/pymongo/pool.py\", line 613, in command\n    user_fields=user_fields)\n  File \"/home/tobias/anaconda3/lib/python3.7/site-packages/pymongo/topology.py\", line 235, in select_server\n    address))\n  File \"/home/tobias/anaconda3/lib/python3.7/site-packages/pymongo/network.py\", line 255, in _receive_data_on_socket\n    chunk_length = sock.recv_into(mv[bytes_read:])\n  File \"/home/tobias/anaconda3/lib/python3.7/site-packages/pymongo/network.py\", line 157, in command\n    reply = receive_message(sock, request_id)\nKeyboardInterrupt\n  File \"/home/tobias/anaconda3/lib/python3.7/site-packages/pymongo/collection.py\", line 1594, in _cmd\n    session=session)\n  File \"/home/tobias/anaconda3/lib/python3.7/site-packages/pymongo/network.py\", line 196, in receive_message\n    _receive_data_on_socket(sock, 16))\n  File \"/home/tobias/anaconda3/lib/python3.7/site-packages/pymongo/collection.py\", line 771, in _update\n    write_concern = write_concern or self.write_concern\n  File \"/home/tobias/anaconda3/lib/python3.7/random.py\", line 259, in choice\n    i = self._randbelow(len(seq))\n  File \"/home/tobias/anaconda3/lib/python3.7/site-packages/pymongo/common.py\", line 821, in write_concern\n    return self.__write_concern\n  File \"/home/tobias/anaconda3/lib/python3.7/site-packages/pymongo/network.py\", line 255, in _receive_data_on_socket\n    chunk_length = sock.recv_into(mv[bytes_read:])\nKeyboardInterrupt\nKeyboardInterrupt\n  File \"/home/tobias/anaconda3/lib/python3.7/site-packages/pymongo/network.py\", line 157, in command\n    reply = receive_message(sock, request_id)\n  File \"/home/tobias/anaconda3/lib/python3.7/random.py\", line 228, in _randbelow\n    random = self.random\n  File \"/home/tobias/anaconda3/lib/python3.7/site-packages/pymongo/network.py\", line 196, in receive_message\n    _receive_data_on_socket(sock, 16))\n  File \"/home/tobias/anaconda3/lib/python3.7/site-packages/pymongo/network.py\", line 255, in _receive_data_on_socket\n    chunk_length = sock.recv_into(mv[bytes_read:])\nKeyboardInterrupt\nKeyboardInterrupt\n  File \"/home/tobias/anaconda3/lib/python3.7/site-packages/pymongo/collection.py\", line 250, in _command\n    user_fields=user_fields)\n  File \"/home/tobias/anaconda3/lib/python3.7/site-packages/pymongo/pool.py\", line 618, in command\n    self._raise_connection_failure(error)\n  File \"/home/tobias/anaconda3/lib/python3.7/site-packages/pymongo/pool.py\", line 613, in command\n    user_fields=user_fields)\n  File \"/home/tobias/anaconda3/lib/python3.7/site-packages/pymongo/network.py\", line 157, in command\n    reply = receive_message(sock, request_id)\n  File \"/home/tobias/anaconda3/lib/python3.7/site-packages/pymongo/network.py\", line 196, in receive_message\n    _receive_data_on_socket(sock, 16))\n  File \"/home/tobias/anaconda3/lib/python3.7/site-packages/pymongo/network.py\", line 255, in _receive_data_on_socket\n    chunk_length = sock.recv_into(mv[bytes_read:])\nKeyboardInterrupt\nProcess ForkPoolWorker-13:\nTraceback (most recent call last):\n  File \"/home/tobias/anaconda3/lib/python3.7/multiprocessing/process.py\", line 297, in _bootstrap\n    self.run()\n  File \"/home/tobias/anaconda3/lib/python3.7/multiprocessing/process.py\", line 99, in run\n    self._target(*self._args, **self._kwargs)\n  File \"/home/tobias/anaconda3/lib/python3.7/multiprocessing/pool.py\", line 121, in worker\n    result = (True, func(*args, **kwds))\n  File \"<ipython-input-10-c9df4c44c7e4>\", line 33, in process_chunk\n    update_inverted_index(doc_id, stemmed_tokens, section, inverted_index_collection)\n  File \"<ipython-input-9-4c26e153e604>\", line 15, in update_inverted_index\n    {'$inc': {f'doc_ids.$.count.{section}': 1}})\nProcess ForkPoolWorker-11:\n  File \"/home/tobias/anaconda3/lib/python3.7/site-packages/pymongo/collection.py\", line 3215, in update\n    write_concern, collation=collation)\n  File \"/home/tobias/anaconda3/lib/python3.7/site-packages/pymongo/collection.py\", line 856, in _update_retryable\n    _update, session)\n  File \"/home/tobias/anaconda3/lib/python3.7/site-packages/pymongo/mongo_client.py\", line 1490, in _retryable_write\n    with self._tmp_session(session) as s:\n  File \"/home/tobias/anaconda3/lib/python3.7/contextlib.py\", line 112, in __enter__\n    return next(self.gen)\n  File \"/home/tobias/anaconda3/lib/python3.7/site-packages/pymongo/mongo_client.py\", line 1823, in _tmp_session\n    s = self._ensure_session(session)\nTraceback (most recent call last):\nKeyboardInterrupt\n  File \"/home/tobias/anaconda3/lib/python3.7/multiprocessing/process.py\", line 297, in _bootstrap\n    self.run()\n  File \"/home/tobias/anaconda3/lib/python3.7/multiprocessing/process.py\", line 99, in run\n    self._target(*self._args, **self._kwargs)\n  File \"/home/tobias/anaconda3/lib/python3.7/multiprocessing/pool.py\", line 121, in worker\n    result = (True, func(*args, **kwds))\n  File \"<ipython-input-10-c9df4c44c7e4>\", line 33, in process_chunk\n    update_inverted_index(doc_id, stemmed_tokens, section, inverted_index_collection)\n  File \"<ipython-input-9-4c26e153e604>\", line 5, in update_inverted_index\n    if stem_entry.count() > 0:\n  File \"/home/tobias/anaconda3/lib/python3.7/site-packages/pymongo/cursor.py\", line 787, in count\n    cmd, self.__collation, session=self.__session)\n  File \"/home/tobias/anaconda3/lib/python3.7/site-packages/pymongo/collection.py\", line 1600, in _count\n    _cmd, self._read_preference_for(session), session)\n  File \"/home/tobias/anaconda3/lib/python3.7/site-packages/pymongo/mongo_client.py\", line 1464, in _retryable_read\n    return func(session, server, sock_info, slave_ok)\n  File \"/home/tobias/anaconda3/lib/python3.7/site-packages/pymongo/collection.py\", line 1594, in _cmd\n    session=session)\n  File \"/home/tobias/anaconda3/lib/python3.7/site-packages/pymongo/collection.py\", line 250, in _command\n    user_fields=user_fields)\n  File \"/home/tobias/anaconda3/lib/python3.7/site-packages/pymongo/pool.py\", line 618, in command\n    self._raise_connection_failure(error)\n  File \"/home/tobias/anaconda3/lib/python3.7/site-packages/pymongo/pool.py\", line 613, in command\n    user_fields=user_fields)\n  File \"/home/tobias/anaconda3/lib/python3.7/site-packages/pymongo/network.py\", line 157, in command\n    reply = receive_message(sock, request_id)\n  File \"/home/tobias/anaconda3/lib/python3.7/site-packages/pymongo/network.py\", line 196, in receive_message\n    _receive_data_on_socket(sock, 16))\n  File \"/home/tobias/anaconda3/lib/python3.7/site-packages/pymongo/network.py\", line 255, in _receive_data_on_socket\n    chunk_length = sock.recv_into(mv[bytes_read:])\nKeyboardInterrupt\n"
    },
    {
     "output_type": "error",
     "ename": "KeyboardInterrupt",
     "evalue": "",
     "traceback": [
      "\u001b[0;31m---------------------------------------------------------------------------\u001b[0m",
      "\u001b[0;31mIndexError\u001b[0m                                Traceback (most recent call last)",
      "\u001b[0;32m~/anaconda3/lib/python3.7/multiprocessing/pool.py\u001b[0m in \u001b[0;36mnext\u001b[0;34m(self, timeout)\u001b[0m\n\u001b[1;32m    732\u001b[0m             \u001b[0;32mtry\u001b[0m\u001b[0;34m:\u001b[0m\u001b[0;34m\u001b[0m\u001b[0;34m\u001b[0m\u001b[0m\n\u001b[0;32m--> 733\u001b[0;31m                 \u001b[0mitem\u001b[0m \u001b[0;34m=\u001b[0m \u001b[0mself\u001b[0m\u001b[0;34m.\u001b[0m\u001b[0m_items\u001b[0m\u001b[0;34m.\u001b[0m\u001b[0mpopleft\u001b[0m\u001b[0;34m(\u001b[0m\u001b[0;34m)\u001b[0m\u001b[0;34m\u001b[0m\u001b[0;34m\u001b[0m\u001b[0m\n\u001b[0m\u001b[1;32m    734\u001b[0m             \u001b[0;32mexcept\u001b[0m \u001b[0mIndexError\u001b[0m\u001b[0;34m:\u001b[0m\u001b[0;34m\u001b[0m\u001b[0;34m\u001b[0m\u001b[0m\n",
      "\u001b[0;31mIndexError\u001b[0m: pop from an empty deque",
      "\nDuring handling of the above exception, another exception occurred:\n",
      "\u001b[0;31mKeyboardInterrupt\u001b[0m                         Traceback (most recent call last)",
      "\u001b[0;32m<ipython-input-12-e55442d3e29d>\u001b[0m in \u001b[0;36m<module>\u001b[0;34m\u001b[0m\n\u001b[1;32m      2\u001b[0m \u001b[0mchunks\u001b[0m \u001b[0;34m=\u001b[0m \u001b[0mcreate_chunks\u001b[0m\u001b[0;34m(\u001b[0m\u001b[0mfiles\u001b[0m\u001b[0;34m)\u001b[0m\u001b[0;34m\u001b[0m\u001b[0;34m\u001b[0m\u001b[0m\n\u001b[1;32m      3\u001b[0m \u001b[0;34m\u001b[0m\u001b[0m\n\u001b[0;32m----> 4\u001b[0;31m \u001b[0;32mfor\u001b[0m \u001b[0m_\u001b[0m \u001b[0;32min\u001b[0m \u001b[0mtqdm\u001b[0m\u001b[0;34m(\u001b[0m\u001b[0mpool\u001b[0m\u001b[0;34m.\u001b[0m\u001b[0mimap_unordered\u001b[0m\u001b[0;34m(\u001b[0m\u001b[0mprocess_chunk\u001b[0m\u001b[0;34m,\u001b[0m \u001b[0mchunks\u001b[0m\u001b[0;34m)\u001b[0m\u001b[0;34m,\u001b[0m \u001b[0mtotal\u001b[0m\u001b[0;34m=\u001b[0m\u001b[0mlen\u001b[0m\u001b[0;34m(\u001b[0m\u001b[0mchunks\u001b[0m\u001b[0;34m)\u001b[0m\u001b[0;34m)\u001b[0m\u001b[0;34m:\u001b[0m\u001b[0;34m\u001b[0m\u001b[0;34m\u001b[0m\u001b[0m\n\u001b[0m\u001b[1;32m      5\u001b[0m     \u001b[0;32mpass\u001b[0m\u001b[0;34m\u001b[0m\u001b[0;34m\u001b[0m\u001b[0m\n\u001b[1;32m      6\u001b[0m \u001b[0;34m\u001b[0m\u001b[0m\n",
      "\u001b[0;32m~/anaconda3/lib/python3.7/site-packages/tqdm/notebook.py\u001b[0m in \u001b[0;36m__iter__\u001b[0;34m(self, *args, **kwargs)\u001b[0m\n\u001b[1;32m    215\u001b[0m     \u001b[0;32mdef\u001b[0m \u001b[0m__iter__\u001b[0m\u001b[0;34m(\u001b[0m\u001b[0mself\u001b[0m\u001b[0;34m,\u001b[0m \u001b[0;34m*\u001b[0m\u001b[0margs\u001b[0m\u001b[0;34m,\u001b[0m \u001b[0;34m**\u001b[0m\u001b[0mkwargs\u001b[0m\u001b[0;34m)\u001b[0m\u001b[0;34m:\u001b[0m\u001b[0;34m\u001b[0m\u001b[0;34m\u001b[0m\u001b[0m\n\u001b[1;32m    216\u001b[0m         \u001b[0;32mtry\u001b[0m\u001b[0;34m:\u001b[0m\u001b[0;34m\u001b[0m\u001b[0;34m\u001b[0m\u001b[0m\n\u001b[0;32m--> 217\u001b[0;31m             \u001b[0;32mfor\u001b[0m \u001b[0mobj\u001b[0m \u001b[0;32min\u001b[0m \u001b[0msuper\u001b[0m\u001b[0;34m(\u001b[0m\u001b[0mtqdm_notebook\u001b[0m\u001b[0;34m,\u001b[0m \u001b[0mself\u001b[0m\u001b[0;34m)\u001b[0m\u001b[0;34m.\u001b[0m\u001b[0m__iter__\u001b[0m\u001b[0;34m(\u001b[0m\u001b[0;34m*\u001b[0m\u001b[0margs\u001b[0m\u001b[0;34m,\u001b[0m \u001b[0;34m**\u001b[0m\u001b[0mkwargs\u001b[0m\u001b[0;34m)\u001b[0m\u001b[0;34m:\u001b[0m\u001b[0;34m\u001b[0m\u001b[0;34m\u001b[0m\u001b[0m\n\u001b[0m\u001b[1;32m    218\u001b[0m                 \u001b[0;31m# return super(tqdm...) will not catch exception\u001b[0m\u001b[0;34m\u001b[0m\u001b[0;34m\u001b[0m\u001b[0;34m\u001b[0m\u001b[0m\n\u001b[1;32m    219\u001b[0m                 \u001b[0;32myield\u001b[0m \u001b[0mobj\u001b[0m\u001b[0;34m\u001b[0m\u001b[0;34m\u001b[0m\u001b[0m\n",
      "\u001b[0;32m~/anaconda3/lib/python3.7/site-packages/tqdm/std.py\u001b[0m in \u001b[0;36m__iter__\u001b[0;34m(self)\u001b[0m\n\u001b[1;32m   1105\u001b[0m                 fp_write=getattr(self.fp, 'write', sys.stderr.write))\n\u001b[1;32m   1106\u001b[0m \u001b[0;34m\u001b[0m\u001b[0m\n\u001b[0;32m-> 1107\u001b[0;31m         \u001b[0;32mfor\u001b[0m \u001b[0mobj\u001b[0m \u001b[0;32min\u001b[0m \u001b[0miterable\u001b[0m\u001b[0;34m:\u001b[0m\u001b[0;34m\u001b[0m\u001b[0;34m\u001b[0m\u001b[0m\n\u001b[0m\u001b[1;32m   1108\u001b[0m             \u001b[0;32myield\u001b[0m \u001b[0mobj\u001b[0m\u001b[0;34m\u001b[0m\u001b[0;34m\u001b[0m\u001b[0m\n\u001b[1;32m   1109\u001b[0m             \u001b[0;31m# Update and possibly print the progressbar.\u001b[0m\u001b[0;34m\u001b[0m\u001b[0;34m\u001b[0m\u001b[0;34m\u001b[0m\u001b[0m\n",
      "\u001b[0;32m~/anaconda3/lib/python3.7/multiprocessing/pool.py\u001b[0m in \u001b[0;36mnext\u001b[0;34m(self, timeout)\u001b[0m\n\u001b[1;32m    735\u001b[0m                 \u001b[0;32mif\u001b[0m \u001b[0mself\u001b[0m\u001b[0;34m.\u001b[0m\u001b[0m_index\u001b[0m \u001b[0;34m==\u001b[0m \u001b[0mself\u001b[0m\u001b[0;34m.\u001b[0m\u001b[0m_length\u001b[0m\u001b[0;34m:\u001b[0m\u001b[0;34m\u001b[0m\u001b[0;34m\u001b[0m\u001b[0m\n\u001b[1;32m    736\u001b[0m                     \u001b[0;32mraise\u001b[0m \u001b[0mStopIteration\u001b[0m \u001b[0;32mfrom\u001b[0m \u001b[0;32mNone\u001b[0m\u001b[0;34m\u001b[0m\u001b[0;34m\u001b[0m\u001b[0m\n\u001b[0;32m--> 737\u001b[0;31m                 \u001b[0mself\u001b[0m\u001b[0;34m.\u001b[0m\u001b[0m_cond\u001b[0m\u001b[0;34m.\u001b[0m\u001b[0mwait\u001b[0m\u001b[0;34m(\u001b[0m\u001b[0mtimeout\u001b[0m\u001b[0;34m)\u001b[0m\u001b[0;34m\u001b[0m\u001b[0;34m\u001b[0m\u001b[0m\n\u001b[0m\u001b[1;32m    738\u001b[0m                 \u001b[0;32mtry\u001b[0m\u001b[0;34m:\u001b[0m\u001b[0;34m\u001b[0m\u001b[0;34m\u001b[0m\u001b[0m\n\u001b[1;32m    739\u001b[0m                     \u001b[0mitem\u001b[0m \u001b[0;34m=\u001b[0m \u001b[0mself\u001b[0m\u001b[0;34m.\u001b[0m\u001b[0m_items\u001b[0m\u001b[0;34m.\u001b[0m\u001b[0mpopleft\u001b[0m\u001b[0;34m(\u001b[0m\u001b[0;34m)\u001b[0m\u001b[0;34m\u001b[0m\u001b[0;34m\u001b[0m\u001b[0m\n",
      "\u001b[0;32m~/anaconda3/lib/python3.7/threading.py\u001b[0m in \u001b[0;36mwait\u001b[0;34m(self, timeout)\u001b[0m\n\u001b[1;32m    294\u001b[0m         \u001b[0;32mtry\u001b[0m\u001b[0;34m:\u001b[0m    \u001b[0;31m# restore state no matter what (e.g., KeyboardInterrupt)\u001b[0m\u001b[0;34m\u001b[0m\u001b[0;34m\u001b[0m\u001b[0m\n\u001b[1;32m    295\u001b[0m             \u001b[0;32mif\u001b[0m \u001b[0mtimeout\u001b[0m \u001b[0;32mis\u001b[0m \u001b[0;32mNone\u001b[0m\u001b[0;34m:\u001b[0m\u001b[0;34m\u001b[0m\u001b[0;34m\u001b[0m\u001b[0m\n\u001b[0;32m--> 296\u001b[0;31m                 \u001b[0mwaiter\u001b[0m\u001b[0;34m.\u001b[0m\u001b[0macquire\u001b[0m\u001b[0;34m(\u001b[0m\u001b[0;34m)\u001b[0m\u001b[0;34m\u001b[0m\u001b[0;34m\u001b[0m\u001b[0m\n\u001b[0m\u001b[1;32m    297\u001b[0m                 \u001b[0mgotit\u001b[0m \u001b[0;34m=\u001b[0m \u001b[0;32mTrue\u001b[0m\u001b[0;34m\u001b[0m\u001b[0;34m\u001b[0m\u001b[0m\n\u001b[1;32m    298\u001b[0m             \u001b[0;32melse\u001b[0m\u001b[0;34m:\u001b[0m\u001b[0;34m\u001b[0m\u001b[0;34m\u001b[0m\u001b[0m\n",
      "\u001b[0;31mKeyboardInterrupt\u001b[0m: "
     ]
    }
   ],
   "source": [
    "pool = Pool()\n",
    "chunks = create_chunks(files)\n",
    "\n",
    "for _ in tqdm(pool.imap_unordered(process_chunk, chunks), total=len(chunks)):\n",
    "    pass\n",
    "\n",
    "pool.close()\n",
    "pool.join()"
   ]
  }
 ],
 "metadata": {
  "kernelspec": {
   "display_name": "Python 3.7.6 64-bit ('base': conda)",
   "language": "python",
   "name": "python37664bitbasecondaae23e32a32964a9396c6d021c6ebb9de"
  },
  "language_info": {
   "codemirror_mode": {
    "name": "ipython",
    "version": 3
   },
   "file_extension": ".py",
   "mimetype": "text/x-python",
   "name": "python",
   "nbconvert_exporter": "python",
   "pygments_lexer": "ipython3",
   "version": "3.7.6-final"
  }
 },
 "nbformat": 4,
 "nbformat_minor": 4
}