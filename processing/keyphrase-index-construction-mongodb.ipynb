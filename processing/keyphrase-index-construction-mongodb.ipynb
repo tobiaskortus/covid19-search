{
 "cells": [
  {
   "cell_type": "code",
   "execution_count": null,
   "metadata": {},
   "outputs": [],
   "source": [
    "%%capture\n",
    "!pip install pymongo\n",
    "!pip install pycld2\n",
    "!pip install python-rake"
   ]
  },
  {
   "cell_type": "code",
   "execution_count": 1,
   "metadata": {},
   "outputs": [],
   "source": [
    "from __future__ import print_function\n",
    "\n",
    "import string\n",
    "\n",
    "import json\n",
    "import os\n",
    "from os import getcwd, pardir\n",
    "from os import listdir\n",
    "from os.path import isfile, join\n",
    "from glob import glob\n",
    "\n",
    "from utils.literature import DataLoader, get_files, get_full_text, get_document_title, is_english\n",
    "from utils.processing import create_chunks\n",
    "\n",
    "import RAKE\n",
    "\n",
    "import pymongo\n",
    "from pymongo import MongoClient as DBClient\n",
    "\n",
    "from multiprocessing.pool import Pool\n",
    "from tqdm._tqdm_notebook import tqdm\n",
    "\n",
    "import pycld2 as cld2"
   ]
  },
  {
   "cell_type": "code",
   "execution_count": 2,
   "metadata": {},
   "outputs": [],
   "source": [
    "root_dir = join(pardir, 'dataset')\n",
    "files = get_files(root_dir)\n",
    "chunks = create_chunks(files)"
   ]
  },
  {
   "cell_type": "code",
   "execution_count": 3,
   "metadata": {},
   "outputs": [],
   "source": [
    "def process_chunk(args):\n",
    "    with DBClient('localhost', 27017, w=0) as client:\n",
    "\n",
    "        #open a connection to the database\n",
    "        db = client['covid_19']\n",
    "        keyphrase_index_collection = db['keyphrase_index']\n",
    "        \n",
    "        db_documents = []\n",
    "        rake = RAKE.Rake(RAKE.SmartStopList())\n",
    "\n",
    "        #iterate over all documents in chunk\n",
    "        for fpath, doc_id in args:\n",
    "            doc_id = int(doc_id)\n",
    "            data_loader = DataLoader(fpath)\n",
    "\n",
    "            doc_title = get_document_title(fpath, data_loader)\n",
    "            text = get_full_text(fpath, data_loader)\n",
    "\n",
    "            if doc_title == '' or not is_english(doc_title):\n",
    "                continue\n",
    "        \n",
    "            keyphrases = rake.run(text, minCharacters = 5, maxWords = 3, minFrequency = 10)\n",
    "            keyphrases = keyphrases[:10]\n",
    "\n",
    "\n",
    "            keyphrases_json = [{'keyphrase': keyphrase[0], 'score': keyphrase[1]} for keyphrase in keyphrases]\n",
    "            db_documents.append({'_id': doc_id, 'keyprases:': keyphrases_json})\n",
    "            print('added to list')\n",
    "\n",
    "        print('insert')\n",
    "        keyphrase_index_collection.insert_many(db_documents)"
   ]
  },
  {
   "cell_type": "code",
   "execution_count": null,
   "metadata": {},
   "outputs": [],
   "source": [
    "pool = Pool()\n",
    "chunks = create_chunks(files)\n",
    "\n",
    "for _ in tqdm(pool.imap_unordered(process_chunk, chunks), total=len(chunks)):\n",
    "    pass\n",
    "\n",
    "pool.close()\n",
    "pool.join()"
   ]
  },
  {
   "cell_type": "code",
   "execution_count": null,
   "metadata": {},
   "outputs": [],
   "source": []
  }
 ],
 "metadata": {
  "language_info": {
   "codemirror_mode": {
    "name": "ipython",
    "version": 3
   },
   "file_extension": ".py",
   "mimetype": "text/x-python",
   "name": "python",
   "nbconvert_exporter": "python",
   "pygments_lexer": "ipython3",
   "version": "3.7.6-final"
  },
  "orig_nbformat": 2,
  "kernelspec": {
   "name": "python37664bitbaseconda685979d1612e4539ab4b182671d44102",
   "display_name": "Python 3.7.6 64-bit ('base': conda)"
  }
 },
 "nbformat": 4,
 "nbformat_minor": 2
}