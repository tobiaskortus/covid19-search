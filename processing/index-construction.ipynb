{
 "cells": [
  {
   "cell_type": "code",
   "execution_count": 1,
   "metadata": {},
   "outputs": [
    {
     "output_type": "stream",
     "name": "stdout",
     "text": "Requirement already satisfied: pymongo in /home/tobias/anaconda3/lib/python3.7/site-packages (3.10.1)\n"
    }
   ],
   "source": [
    "!pip install pymongo"
   ]
  },
  {
   "cell_type": "code",
   "execution_count": 12,
   "metadata": {},
   "outputs": [],
   "source": [
    "from __future__ import print_function\n",
    "\n",
    "import string\n",
    "import re\n",
    "import sys\n",
    "\n",
    "from multiprocessing import pool\n",
    "from tqdm._tqdm_notebook import tqdm\n",
    "\n",
    "from IPython.display import display, clear_output\n",
    "\n",
    "import numpy as np\n",
    "import pandas as pd\n",
    "\n",
    "from os import getcwd, pardir\n",
    "from os.path import join, basename\n",
    "\n",
    "from utils.literature import DataLoader\n",
    "from utils.preprocessing import NLPPipeline, Tokenizer, Stemmer, ToLowercase, Lemmatizer, StopwordRemover, CitationRemover, SymbolRemover, ContentInBracketsRemover\n",
    "from glob import glob\n",
    "\n",
    "import nltk\n",
    "from nltk.corpus import stopwords\n",
    "from nltk.tokenize import word_tokenize, RegexpTokenizer\n",
    "from nltk.stem.porter import PorterStemmer\n",
    "from nltk.stem import WordNetLemmatizer #TODO: Try lemmatizer instead of stemmer\n",
    "\n",
    "import pymongo\n",
    "from pymongo import MongoClient as DBClient"
   ]
  },
  {
   "cell_type": "markdown",
   "metadata": {},
   "source": [
    "nltk.download()"
   ]
  },
  {
   "cell_type": "markdown",
   "metadata": {},
   "source": [
    "## Specification of the document paths\n",
    "\n",
    "- download from: [Kaggle](https://www.kaggle.com/allen-institute-for-ai/CORD-19-research-challenge)\n",
    "- extract folder content to `{ProjectDir}/dataset`"
   ]
  },
  {
   "cell_type": "code",
   "execution_count": 2,
   "metadata": {},
   "outputs": [],
   "source": [
    "root_dir = join(pardir, 'dataset')\n",
    "\n",
    "json_paths = [\n",
    "    join(root_dir, 'arxiv', 'arxiv', 'pdf_json'),\n",
    "    join(root_dir, 'arxiv', 'arxiv', 'pdf_json'),\n",
    "    join(root_dir, 'comm_use_subset', 'comm_use_subset', 'pdf_json'),\n",
    "    join(root_dir, 'noncomm_use_subset', 'noncomm_use_subset', 'pdf_json'),\n",
    "    join(root_dir, 'custom_license', 'custom_license', 'pdf_json'),\n",
    "    join(root_dir, 'biorxiv_medrxiv', 'biorxiv_medrxiv', 'pdf_json'),\n",
    "]\n",
    "\n",
    "files = []\n",
    "[files.extend(glob(join(path, '*.json'))) for path in json_paths];"
   ]
  },
  {
   "cell_type": "markdown",
   "metadata": {},
   "source": [
    "## Building the document index\n",
    "\n",
    "Each document gets stored in the document_index collection with the following layout: \n",
    "```json\n",
    "{\n",
    "    _id: ..., \n",
    "    document_title: ...\n",
    "}\n",
    "```\n",
    "\n",
    "## Building the reversed index\n",
    "\n",
    "```json\n",
    "{\n",
    "    'stem': ...,\n",
    "    'doc_ids': [\n",
    "        {\n",
    "            {'doc_id': ..., 'count': ...},\n",
    "            {'doc_id': ..., 'count': ...},\n",
    "            {'doc_id': ..., 'count': ...},\n",
    "            {'doc_id': ..., 'count': ...},\n",
    "        }\n",
    "    ]\n",
    "}\n",
    "```"
   ]
  },
  {
   "cell_type": "markdown",
   "metadata": {},
   "source": [
    "TODO: Test\n",
    "pattern = r'''(?x)          # set flag to allow verbose regexps\n",
    "        (?:[A-Z]\\.)+        # abbreviations, e.g. U.S.A.\n",
    "      | \\w+(?:-\\w+)*        # words with optional internal hyphens\n",
    "      | \\$?\\d+(?:\\.\\d+)?%?  # currency and percentages, e.g. $12.40, 82%\n",
    "      | \\.\\.\\.              # ellipsis\n",
    "      | [][.,;\"'?():_`-]    # these are separate tokens; includes ], [\n",
    "    '''"
   ]
  },
  {
   "cell_type": "code",
   "execution_count": 8,
   "metadata": {},
   "outputs": [],
   "source": [
    "pipeline = NLPPipeline([\n",
    "    ToLowercase(),\n",
    "    CitationRemover(),\n",
    "    ContentInBracketsRemover(),\n",
    "    Tokenizer(),\n",
    "    SymbolRemover(),\n",
    "    StopwordRemover(),\n",
    "    Lemmatizer()\n",
    "])"
   ]
  },
  {
   "cell_type": "code",
   "execution_count": 6,
   "metadata": {},
   "outputs": [],
   "source": [
    "def get_full_text(fpath, dl=None):\n",
    "    if dl is None: dl = DataLoader(fpath)\n",
    "    return dl.get_full_text()"
   ]
  },
  {
   "cell_type": "code",
   "execution_count": 7,
   "metadata": {},
   "outputs": [],
   "source": [
    "def get_document_title(fpath, dl=None):\n",
    "    if dl is None: dl = DataLoader(fpath)\n",
    "    return dl.get_title()"
   ]
  },
  {
   "cell_type": "code",
   "execution_count": 8,
   "metadata": {},
   "outputs": [],
   "source": [
    "def create_post(stem, doc_id):\n",
    "    return {'_id': stem, 'doc_ids': [{'doc_id': doc_id, 'count': 1}]}"
   ]
  },
  {
   "cell_type": "code",
   "execution_count": 19,
   "metadata": {},
   "outputs": [],
   "source": [
    "def process_chunk(args):\n",
    "    with DBClient('localhost', 27017, w=0) as client:\n",
    "        db = client['covid_19']\n",
    "        document_index_collection = db['document_index']\n",
    "        reversed_index_collection = db['reversed_index']\n",
    "\n",
    "        for fpath, doc_id in args:\n",
    "            doc_id = int(doc_id)\n",
    "\n",
    "            #preprocessing\n",
    "            dl = DataLoader(fpath)\n",
    "            text = get_full_text(fpath, dl)\n",
    "            stemmed_tokens = pipeline.transform(text)\n",
    "\n",
    "            #get relevant metadata\n",
    "            document_title = get_document_title(fpath, dl)\n",
    "\n",
    "            #update document index\n",
    "            doc_id_entry = document_index_collection.find({'_id': doc_id}).limit(1)\n",
    "            if doc_id_entry.count() == 0:\n",
    "                document_index_collection.insert_one({'_id': doc_id, 'document_title': document_title})\n",
    "\n",
    "            #update reversed index\n",
    "            for stem in stemmed_tokens:\n",
    "                stem_entry = reversed_index_collection.find({'_id': stem}).limit(1)\n",
    "                if stem_entry.count() > 0:\n",
    "                    #try to find current document id in stem entry\n",
    "                    doc_id_object = reversed_index_collection.find(\n",
    "                        {'_id': stem, \n",
    "                        'doc_ids': {'$elemMatch': {'doc_id': doc_id}}}).limit(1)\n",
    "                    if doc_id_object.count() > 0:\n",
    "                        # update occurrence of stem in document\n",
    "                        reversed_index_collection.update(\n",
    "                            {'_id': stem, \n",
    "                            'doc_ids': {'$elemMatch': {'doc_id': doc_id}}},\n",
    "                            {'$inc': {'doc_ids.$.count': 1}})\n",
    "                    else:\n",
    "                        # add document id\n",
    "                        reversed_index_collection.update(\n",
    "                            {'_id': stem},\n",
    "                            {'$push': {'doc_ids': {'doc_id': doc_id, 'count': 1}}})\n",
    "                else:\n",
    "                    post = create_post(stem, doc_id)\n",
    "                    reversed_index_collection.insert_one(post)\n"
   ]
  },
  {
   "cell_type": "code",
   "execution_count": 17,
   "metadata": {},
   "outputs": [],
   "source": [
    "def create_chunks(files, chunk_size=100):\n",
    "    doc_ids = list(range(len(files)))\n",
    "    chunks = list()\n",
    "    for i in range(0, len(files), chunk_size):\n",
    "        indices = np.array(doc_ids[i: min(i+chunk_size, len(files))])\n",
    "        chunks.append(list(zip(\n",
    "            files[i: min(i+chunk_size, len(files))], \n",
    "            doc_ids[i: min(i+chunk_size, len(files))])))\n",
    "    return chunks"
   ]
  },
  {
   "cell_type": "code",
   "execution_count": 20,
   "metadata": {},
   "outputs": [
    {
     "output_type": "stream",
     "name": "stderr",
     "text": "\n\n  0%|          | 0/46528 [00:00<?, ?it/s]\u001b[A\u001b[A\n\n  0%|          | 1/46528 [03:31<2739:23:34, 211.96s/it]\u001b[A\u001b[A\n\n  0%|          | 2/46528 [03:38<1943:05:24, 150.35s/it]\u001b[A\u001b[A\n\n  0%|          | 3/46528 [03:46<1392:36:45, 107.76s/it]\u001b[A\u001b[A\n\n  0%|          | 4/46528 [03:50<989:43:04, 76.58s/it]\u001b[A\u001b[A\n\n  0%|          | 5/46528 [03:54<705:29:21, 54.59s/it]\u001b[A\u001b[A\n\n  0%|          | 6/46528 [03:57<507:50:01, 39.30s/it]\u001b[A\u001b[A\n\n  0%|          | 7/46528 [03:59<364:15:08, 28.19s/it]\u001b[A\u001b[A\n\n  0%|          | 8/46528 [04:17<323:31:24, 25.04s/it]\u001b[A\u001b[A\n\n  0%|          | 9/46528 [07:56<1073:38:30, 83.09s/it]\u001b[A\u001b[A\n\n  0%|          | 10/46528 [07:59<763:32:51, 59.09s/it]\u001b[A\u001b[A\n\n  0%|          | 11/46528 [07:59<535:31:39, 41.45s/it]\u001b[A\u001b[A\n\n  0%|          | 12/46528 [08:19<453:05:50, 35.07s/it]\u001b[A\u001b[A\n\n  0%|          | 13/46528 [08:21<323:33:13, 25.04s/it]\u001b[A\u001b[A\n\n  0%|          | 14/46528 [08:28<255:37:19, 19.78s/it]\u001b[A\u001b[A\n\n  0%|          | 15/46528 [08:34<200:07:42, 15.49s/it]\u001b[A\u001b[A\n\n  0%|          | 16/46528 [09:10<278:31:29, 21.56s/it]\u001b[A\u001b[A\n\n  0%|          | 17/46528 [13:29<1200:59:49, 92.96s/it]\u001b[A\u001b[A\n\n  0%|          | 18/46528 [13:30<842:36:41, 65.22s/it]\u001b[A\u001b[A\n\n  0%|          | 19/46528 [13:37<619:25:45, 47.95s/it]\u001b[A\u001b[A\n\n  0%|          | 20/46528 [13:40<444:11:03, 34.38s/it]\u001b[A\u001b[A\n\n  0%|          | 21/46528 [13:59<382:42:46, 29.62s/it]\u001b[A\u001b[A\n\n  0%|          | 22/46528 [14:32<396:25:18, 30.69s/it]\u001b[A\u001b[A\n\n  0%|          | 23/46528 [14:33<283:13:31, 21.92s/it]\u001b[A\u001b[A\n\n  0%|          | 24/46528 [14:35<205:13:01, 15.89s/it]\u001b[A\u001b[A\n\n  0%|          | 25/46528 [19:22<1257:50:45, 97.38s/it]\u001b[A\u001b[A\n\n  0%|          | 26/46528 [19:39<945:59:00, 73.23s/it]\u001b[A\u001b[A\n\n  0%|          | 27/46528 [19:47<691:22:05, 53.52s/it]\u001b[A\u001b[A\n\n  0%|          | 28/46528 [19:53<509:05:56, 39.41s/it]\u001b[A\u001b[A\n\n  0%|          | 29/46528 [20:02<390:08:47, 30.21s/it]\u001b[A\u001b[A\n\n  0%|          | 30/46528 [20:08<295:35:43, 22.89s/it]\u001b[A\u001b[A\n\n  0%|          | 31/46528 [20:29<289:59:56, 22.45s/it]\u001b[A\u001b[A\n\n  0%|          | 32/46528 [20:47<270:57:42, 20.98s/it]\u001b[A\u001b[A\n\n  0%|          | 33/46528 [26:17<1468:29:40, 113.70s/it]\u001b[A\u001b[A\n\n  0%|          | 34/46528 [26:26<1063:45:50, 82.37s/it]\u001b[A\u001b[A\n\n  0%|          | 35/46528 [26:31<762:12:02, 59.02s/it]\u001b[A\u001b[A\n\n  0%|          | 36/46528 [26:55<629:19:27, 48.73s/it]\u001b[A\u001b[A\n\n  0%|          | 37/46528 [26:58<450:15:20, 34.87s/it]\u001b[A\u001b[A\n\n  0%|          | 38/46528 [27:05<344:04:34, 26.64s/it]\u001b[A\u001b[A\n\n  0%|          | 39/46528 [27:32<343:10:44, 26.57s/it]\u001b[A\u001b[A\n\n  0%|          | 40/46528 [28:23<437:04:13, 33.85s/it]\u001b[A\u001b[A\n\n  0%|          | 41/46528 [33:18<1448:52:17, 112.20s/it]\u001b[A\u001b[A\n\n  0%|          | 42/46528 [33:41<1104:12:41, 85.51s/it]\u001b[A\u001b[A\n\n  0%|          | 43/46528 [34:09<881:07:14, 68.24s/it]\u001b[A\u001b[A\n\n  0%|          | 44/46528 [34:13<634:24:57, 49.13s/it]\u001b[A\u001b[A\n\n  0%|          | 45/46528 [34:21<474:08:24, 36.72s/it]\u001b[A\u001b[A\n\n  0%|          | 46/46528 [34:51<445:57:53, 34.54s/it]\u001b[A\u001b[A\n\n  0%|          | 47/46528 [35:34<482:01:02, 37.33s/it]\u001b[A\u001b[A\n\n  0%|          | 48/46528 [37:25<766:26:41, 59.36s/it]\u001b[A\u001b[A\n\n  0%|          | 49/46528 [41:24<1460:42:16, 113.14s/it]\u001b[A\u001b[A\n\n  0%|          | 50/46528 [41:45<1102:37:19, 85.40s/it]\u001b[A\u001b[A\n\n  0%|          | 51/46528 [42:10<868:34:12, 67.28s/it]\u001b[A\u001b[A\n\n  0%|          | 52/46528 [42:15<630:29:06, 48.84s/it]\u001b[A\u001b[A\n\n  0%|          | 53/46528 [42:59<612:05:47, 47.41s/it]\u001b[A\u001b[A\n\n  0%|          | 54/46528 [43:31<552:31:56, 42.80s/it]\u001b[A\u001b[A\n\n  0%|          | 55/46528 [43:43<430:31:06, 33.35s/it]\u001b[A\u001b[A\n\n  0%|          | 56/46528 [45:59<830:41:38, 64.35s/it]\u001b[A\u001b[A\n\n  0%|          | 57/46528 [50:38<1659:24:27, 128.55s/it]\u001b[A\u001b[A\n\n  0%|          | 58/46528 [51:04<1263:18:43, 97.87s/it]\u001b[A\u001b[A\n\n  0%|          | 59/46528 [51:07<896:44:21, 69.47s/it]\u001b[A\u001b[A\n\n  0%|          | 60/46528 [52:41<988:58:35, 76.62s/it]\u001b[A\u001b[A\n\n  0%|          | 61/46528 [53:04<782:29:51, 60.62s/it]\u001b[A\u001b[A\n\n  0%|          | 62/46528 [53:17<598:24:39, 46.36s/it]\u001b[A\u001b[A\n\n  0%|          | 63/46528 [53:40<506:49:37, 39.27s/it]\u001b[A\u001b[A\n\n  0%|          | 64/46528 [54:36<574:24:36, 44.50s/it]\u001b[A\u001b[A\n\n  0%|          | 65/46528 [1:01:22<1972:18:05, 152.82s/it]\u001b[A\u001b[A\n\n  0%|          | 66/46528 [1:02:00<1527:33:42, 118.36s/it]\u001b[A\u001b[A\n\n  0%|          | 67/46528 [1:02:28<1179:12:42, 91.37s/it]\u001b[A\u001b[A\n\n  0%|          | 68/46528 [1:03:00<949:16:57, 73.56s/it]\u001b[A\u001b[A\n\n  0%|          | 69/46528 [1:03:03<674:00:37, 52.23s/it]\u001b[A\u001b[A\n\n  0%|          | 70/46528 [1:03:16<523:03:49, 40.53s/it]\u001b[A\u001b[A\n\n  0%|          | 71/46528 [1:03:21<384:50:12, 29.82s/it]\u001b[A\u001b[A\n\n  0%|          | 72/46528 [1:04:54<630:39:42, 48.87s/it]\u001b[A\u001b[A\n\n  0%|          | 73/46528 [1:12:03<2100:45:27, 162.80s/it]\u001b[A\u001b[A\n\n  0%|          | 74/46528 [1:12:10<1498:36:56, 116.14s/it]\u001b[A\u001b[A\n\n  0%|          | 75/46528 [1:12:57<1231:31:27, 95.44s/it]\u001b[A\u001b[A\n\n  0%|          | 76/46528 [1:13:26<975:23:24, 75.59s/it]\u001b[A\u001b[A\n\n  0%|          | 77/46528 [1:14:16<873:05:22, 67.67s/it]\u001b[A\u001b[A\n\n  0%|          | 78/46528 [1:14:21<629:56:22, 48.82s/it]\u001b[A\u001b[A\n\n  0%|          | 79/46528 [1:14:30<477:40:03, 37.02s/it]\u001b[A\u001b[A\n\n  0%|          | 80/46528 [1:14:51<413:45:41, 32.07s/it]\u001b[A\u001b[A\n\n  0%|          | 81/46528 [1:22:38<2099:25:28, 162.72s/it]\u001b[A\u001b[A\n\n  0%|          | 82/46528 [1:24:00<1786:02:19, 138.43s/it]\u001b[A\u001b[A\n\n  0%|          | 83/46528 [1:24:10<1290:09:46, 100.00s/it]\u001b[A\u001b[A\n\n  0%|          | 84/46528 [1:24:23<951:48:58, 73.78s/it]\u001b[A\u001b[A\n\n  0%|          | 85/46528 [1:25:46<987:09:05, 76.52s/it]\u001b[A\u001b[A\n\n  0%|          | 86/46528 [1:25:50<706:20:35, 54.75s/it]\u001b[A\u001b[A\n\n  0%|          | 87/46528 [1:26:48<720:16:23, 55.83s/it]\u001b[A\u001b[A\n\n  0%|          | 88/46528 [1:28:34<915:17:56, 70.95s/it]\u001b[A\u001b[A\n\n  0%|          | 89/46528 [1:35:06<2158:11:47, 167.31s/it]\u001b[A\u001b[A\n\n  0%|          | 90/46528 [1:35:36<1624:25:10, 125.93s/it]\u001b[A\u001b[A\n\n  0%|          | 91/46528 [1:36:04<1245:02:17, 96.52s/it]\u001b[A\u001b[A\n\n  0%|          | 92/46528 [1:36:06<879:07:20, 68.15s/it]\u001b[A\u001b[A\n\n  0%|          | 93/46528 [1:36:41<751:24:47, 58.26s/it]\u001b[A\u001b[A\n\n  0%|          | 94/46528 [1:37:51<798:57:59, 61.94s/it]\u001b[A\u001b[A\n\n  0%|          | 95/46528 [1:38:53<799:11:16, 61.96s/it]\u001b[A\u001b[A\n\n  0%|          | 96/46528 [1:41:26<1148:29:11, 89.05s/it]\u001b[A\u001b[A\n\n  0%|          | 97/46528 [1:48:22<2414:36:08, 187.21s/it]\u001b[A\u001b[A\n\n  0%|          | 98/46528 [1:48:32<1729:52:31, 134.13s/it]\u001b[A\u001b[A\n\n  0%|          | 99/46528 [1:48:37<1228:11:17, 95.23s/it]\u001b[A\u001b[A\n\n  0%|          | 100/46528 [1:49:11<994:15:30, 77.09s/it]\u001b[A\u001b[A\n\n  0%|          | 101/46528 [1:50:05<903:16:59, 70.04s/it]\u001b[A\u001b[A\n\n  0%|          | 102/46528 [1:51:27<950:29:34, 73.70s/it]\u001b[A\u001b[A\n\n  0%|          | 103/46528 [1:52:14<845:16:57, 65.55s/it]\u001b[A\u001b[A\n\n  0%|          | 104/46528 [1:54:09<1036:00:01, 80.34s/it]\u001b[A\u001b[A\n\n  0%|          | 105/46528 [2:01:51<2515:05:10, 195.04s/it]\u001b[A\u001b[A\n\n  0%|          | 106/46528 [2:02:05<1812:44:04, 140.58s/it]\u001b[A\u001b[A\n\n  0%|          | 107/46528 [2:02:31<1368:56:27, 106.16s/it]\u001b[A\u001b[A\n\n  0%|          | 108/46528 [2:03:48<1257:48:05, 97.55s/it]\u001b[A\u001b[A\n\n  0%|          | 109/46528 [2:04:26<1027:27:20, 79.68s/it]\u001b[A\u001b[A\n\n  0%|          | 110/46528 [2:04:46<794:35:17, 61.63s/it]\u001b[A\u001b[A\n\n  0%|          | 111/46528 [2:04:52<580:01:37, 44.99s/it]\u001b[A\u001b[A\n\n  0%|          | 112/46528 [2:08:03<1146:05:26, 88.89s/it]\u001b[A\u001b[A\n\n  0%|          | 113/46528 [2:14:13<2232:11:12, 173.13s/it]\u001b[A\u001b[A\n\n  0%|          | 114/46528 [2:15:15<1803:51:49, 139.91s/it]\u001b[A\u001b[A\n\n  0%|          | 115/46528 [2:15:50<1397:42:17, 108.41s/it]\u001b[A\u001b[A\n\n  0%|          | 116/46528 [2:16:02<1023:28:02, 79.39s/it]\u001b[A\u001b[A\n\n  0%|          | 117/46528 [2:16:16<771:45:12, 59.86s/it]\u001b[A\u001b[A\n\n  0%|          | 118/46528 [2:16:26<577:50:18, 44.82s/it]\u001b[A\u001b[A\n\n  0%|          | 119/46528 [2:18:42<932:35:50, 72.34s/it]\u001b[A\u001b[A\n\n  0%|          | 120/46528 [2:26:04<2362:08:49, 183.24s/it]\u001b[A\u001b[A\n\n  0%|          | 121/46528 [2:26:31<1756:32:15, 136.26s/it]\u001b[A\u001b[A\n\n  0%|          | 122/46528 [2:27:21<1424:41:17, 110.52s/it]\u001b[A\u001b[A\n\n  0%|          | 123/46528 [2:27:32<1037:19:48, 80.47s/it]\u001b[A\u001b[A\n\n  0%|          | 124/46528 [2:28:35<968:49:29, 75.16s/it]\u001b[A\u001b[A\n\n  0%|          | 125/46528 [2:31:32<1365:58:36, 105.97s/it]\u001b[A\u001b[A\n\n  0%|          | 126/46528 [2:31:58<1057:04:45, 82.01s/it]\u001b[A\u001b[A\n\n  0%|          | 127/46528 [2:32:30<861:21:33, 66.83s/it]\u001b[A\u001b[A\n\n  0%|          | 128/46528 [2:40:35<2480:20:33, 192.44s/it]\u001b[A\u001b[A\n\n  0%|          | 129/46528 [2:42:48<2247:46:40, 174.40s/it]\u001b[A\u001b[A\n\n  0%|          | 130/46528 [2:44:05<1871:53:05, 145.24s/it]\u001b[A\u001b[A\n\n  0%|          | 131/46528 [2:45:38<1670:54:12, 129.65s/it]\u001b[A\u001b[A\n\n  0%|          | 132/46528 [2:46:13<1303:39:13, 101.15s/it]\u001b[A\u001b[A\n\n  0%|          | 133/46528 [2:46:54<1071:19:42, 83.13s/it]\u001b[A\u001b[A\n\n  0%|          | 134/46528 [2:48:28<1112:34:53, 86.33s/it]\u001b[A\u001b[A\n\n  0%|          | 135/46528 [2:52:20<1675:28:16, 130.01s/it]\u001b[A\u001b[A\n\n  0%|          | 136/46528 [2:55:39<1944:33:26, 150.90s/it]\u001b[A\u001b[A\n\n  0%|          | 137/46528 [2:56:21<1521:21:47, 118.06s/it]\u001b[A\u001b[A\n\n  0%|          | 138/46528 [2:58:34<1580:30:37, 122.65s/it]\u001b[A\u001b[A\n\n  0%|          | 139/46528 [3:02:02<1908:30:35, 148.11s/it]\u001b[A\u001b[A\n\n  0%|          | 140/46528 [3:03:32<1686:52:39, 130.91s/it]\u001b[A\u001b[A\n\n  0%|          | 141/46528 [3:05:48<1705:29:24, 132.36s/it]\u001b[A\u001b[A\n\n  0%|          | 142/46528 [3:06:37<1382:15:34, 107.28s/it]\u001b[A\u001b[A\n\n  0%|          | 143/46528 [3:07:15<1113:34:55, 86.43s/it]\u001b[A\u001b[A\n\n  0%|          | 144/46528 [3:11:38<1797:22:21, 139.50s/it]\u001b[A\u001b[A\n\n  0%|          | 145/46528 [3:15:48<2223:13:40, 172.56s/it]\u001b[A\u001b[A\n\n  0%|          | 146/46528 [3:18:19<2140:21:07, 166.13s/it]\u001b[A\u001b[A\n\n  0%|          | 147/46528 [3:19:23<1744:47:36, 135.43s/it]\u001b[A\u001b[A\n\n  0%|          | 148/46528 [3:24:17<2360:33:46, 183.23s/it]\u001b[A\u001b[A\n\n  0%|          | 149/46528 [3:25:12<1864:24:05, 144.72s/it]\u001b[A\u001b[A\n\n  0%|          | 150/46528 [3:30:07<2446:02:10, 189.87s/it]\u001b[A\u001b[A\n\n  0%|          | 151/46528 [3:31:20<1993:35:29, 154.75s/it]\u001b[A\u001b[A\n\n  0%|          | 152/46528 [3:33:10<1820:33:06, 141.32s/it]\u001b[A\u001b[A\n\n  0%|          | 153/46528 [3:33:47<1417:21:10, 110.03s/it]\u001b[A\u001b[A\n\n  0%|          | 154/46528 [3:37:42<1900:38:39, 147.55s/it]\u001b[A\u001b[A\n\n  0%|          | 155/46528 [3:40:01<1865:44:09, 144.84s/it]\u001b[A\u001b[A\n\n  0%|          | 156/46528 [3:40:39<1453:04:36, 112.81s/it]\u001b[A\u001b[A\n\n  0%|          | 157/46528 [3:44:25<1889:28:20, 146.69s/it]\u001b[A\u001b[A\n\n  0%|          | 158/46528 [3:46:55<1904:15:02, 147.84s/it]\u001b[A\u001b[A\n\n  0%|          | 159/46528 [3:47:11<1394:01:09, 108.23s/it]\u001b[A\u001b[A\n\n  0%|          | 160/46528 [3:52:00<2094:03:24, 162.58s/it]\u001b[A\u001b[A\n\n  0%|          | 161/46528 [3:55:20<2236:03:38, 173.61s/it]\u001b[A\u001b[A\n\n  0%|          | 162/46528 [3:56:13<1770:41:40, 137.48s/it]\u001b[A\u001b[A\n\n  0%|          | 163/46528 [3:57:49<1609:05:27, 124.94s/it]\u001b[A\u001b[A\n\n  0%|          | 164/46528 [3:58:53<1376:34:18, 106.89s/it]\u001b[A\u001b[A\n\n  0%|          | 165/46528 [4:04:49<2337:57:36, 181.54s/it]\u001b[A\u001b[A\n\n  0%|          | 166/46528 [4:05:47<1861:27:21, 144.54s/it]\u001b[A\u001b[A\n\n  0%|          | 167/46528 [4:09:15<2105:52:38, 163.52s/it]\u001b[A\u001b[A\n\n  0%|          | 168/46528 [4:11:24<1971:19:11, 153.08s/it]\u001b[A\u001b[A\n\n  0%|          | 169/46528 [4:16:19<2519:16:54, 195.63s/it]\u001b[A\u001b[A\n\n  0%|          | 170/46528 [4:16:23<1781:22:22, 138.34s/it]\u001b[A\u001b[A\n\n  0%|          | 171/46528 [4:16:25<1251:26:24, 97.18s/it]\u001b[A\u001b[A\n\n  0%|          | 172/46528 [4:18:40<1398:12:02, 108.58s/it]\u001b[A\u001b[A"
    },
    {
     "output_type": "error",
     "ename": "AutoReconnect",
     "evalue": "connection closed",
     "traceback": [
      "\u001b[0;31m---------------------------------------------------------------------------\u001b[0m",
      "\u001b[0;31mRemoteTraceback\u001b[0m                           Traceback (most recent call last)",
      "\u001b[0;31mRemoteTraceback\u001b[0m: \n\"\"\"\nTraceback (most recent call last):\n  File \"/home/tobias/anaconda3/lib/python3.7/site-packages/pymongo/mongo_client.py\", line 1454, in _retryable_read\n    read_pref, session, address=address)\n  File \"/home/tobias/anaconda3/lib/python3.7/site-packages/pymongo/mongo_client.py\", line 1253, in _select_server\n    server = topology.select_server(server_selector)\n  File \"/home/tobias/anaconda3/lib/python3.7/site-packages/pymongo/topology.py\", line 235, in select_server\n    address))\n  File \"/home/tobias/anaconda3/lib/python3.7/site-packages/pymongo/topology.py\", line 193, in select_servers\n    selector, server_timeout, address)\n  File \"/home/tobias/anaconda3/lib/python3.7/site-packages/pymongo/topology.py\", line 209, in _select_servers_loop\n    self._error_message(selector))\npymongo.errors.ServerSelectionTimeoutError: localhost:27017: [Errno 111] Connection refused\n\nDuring handling of the above exception, another exception occurred:\n\nTraceback (most recent call last):\n  File \"/home/tobias/anaconda3/lib/python3.7/multiprocessing/pool.py\", line 121, in worker\n    result = (True, func(*args, **kwds))\n  File \"<ipython-input-19-c952031186eb>\", line 29, in process_chunk\n    if stem_entry.count() > 0:\n  File \"/home/tobias/anaconda3/lib/python3.7/site-packages/pymongo/cursor.py\", line 787, in count\n    cmd, self.__collation, session=self.__session)\n  File \"/home/tobias/anaconda3/lib/python3.7/site-packages/pymongo/collection.py\", line 1600, in _count\n    _cmd, self._read_preference_for(session), session)\n  File \"/home/tobias/anaconda3/lib/python3.7/site-packages/pymongo/mongo_client.py\", line 1470, in _retryable_read\n    raise last_error\n  File \"/home/tobias/anaconda3/lib/python3.7/site-packages/pymongo/mongo_client.py\", line 1464, in _retryable_read\n    return func(session, server, sock_info, slave_ok)\n  File \"/home/tobias/anaconda3/lib/python3.7/site-packages/pymongo/collection.py\", line 1594, in _cmd\n    session=session)\n  File \"/home/tobias/anaconda3/lib/python3.7/site-packages/pymongo/collection.py\", line 250, in _command\n    user_fields=user_fields)\n  File \"/home/tobias/anaconda3/lib/python3.7/site-packages/pymongo/pool.py\", line 618, in command\n    self._raise_connection_failure(error)\n  File \"/home/tobias/anaconda3/lib/python3.7/site-packages/pymongo/pool.py\", line 613, in command\n    user_fields=user_fields)\n  File \"/home/tobias/anaconda3/lib/python3.7/site-packages/pymongo/network.py\", line 157, in command\n    reply = receive_message(sock, request_id)\n  File \"/home/tobias/anaconda3/lib/python3.7/site-packages/pymongo/network.py\", line 196, in receive_message\n    _receive_data_on_socket(sock, 16))\n  File \"/home/tobias/anaconda3/lib/python3.7/site-packages/pymongo/network.py\", line 261, in _receive_data_on_socket\n    raise AutoReconnect(\"connection closed\")\npymongo.errors.AutoReconnect: connection closed\n\"\"\"",
      "\nThe above exception was the direct cause of the following exception:\n",
      "\u001b[0;31mAutoReconnect\u001b[0m                             Traceback (most recent call last)",
      "\u001b[0;32m<ipython-input-20-74e7df6f0ef2>\u001b[0m in \u001b[0;36m<module>\u001b[0;34m\u001b[0m\n\u001b[1;32m      3\u001b[0m \u001b[0mpool\u001b[0m \u001b[0;34m=\u001b[0m \u001b[0mPool\u001b[0m\u001b[0;34m(\u001b[0m\u001b[0mprocesses\u001b[0m\u001b[0;34m=\u001b[0m\u001b[0;36m8\u001b[0m\u001b[0;34m)\u001b[0m\u001b[0;34m\u001b[0m\u001b[0;34m\u001b[0m\u001b[0m\n\u001b[1;32m      4\u001b[0m \u001b[0;34m\u001b[0m\u001b[0m\n\u001b[0;32m----> 5\u001b[0;31m \u001b[0;32mfor\u001b[0m \u001b[0m_\u001b[0m \u001b[0;32min\u001b[0m \u001b[0mtqdm\u001b[0m\u001b[0;34m.\u001b[0m\u001b[0mtqdm\u001b[0m\u001b[0;34m(\u001b[0m\u001b[0mpool\u001b[0m\u001b[0;34m.\u001b[0m\u001b[0mimap_unordered\u001b[0m\u001b[0;34m(\u001b[0m\u001b[0mprocess_chunk\u001b[0m\u001b[0;34m,\u001b[0m \u001b[0mcreate_chunks\u001b[0m\u001b[0;34m(\u001b[0m\u001b[0mfiles\u001b[0m\u001b[0;34m)\u001b[0m\u001b[0;34m)\u001b[0m\u001b[0;34m,\u001b[0m \u001b[0mtotal\u001b[0m\u001b[0;34m=\u001b[0m\u001b[0mlen\u001b[0m\u001b[0;34m(\u001b[0m\u001b[0mfiles\u001b[0m\u001b[0;34m)\u001b[0m\u001b[0;34m)\u001b[0m\u001b[0;34m:\u001b[0m\u001b[0;34m\u001b[0m\u001b[0;34m\u001b[0m\u001b[0m\n\u001b[0m\u001b[1;32m      6\u001b[0m     \u001b[0;32mpass\u001b[0m\u001b[0;34m\u001b[0m\u001b[0;34m\u001b[0m\u001b[0m\n\u001b[1;32m      7\u001b[0m \u001b[0;34m\u001b[0m\u001b[0m\n",
      "\u001b[0;32m~/anaconda3/lib/python3.7/site-packages/tqdm/std.py\u001b[0m in \u001b[0;36m__iter__\u001b[0;34m(self)\u001b[0m\n\u001b[1;32m   1105\u001b[0m                 fp_write=getattr(self.fp, 'write', sys.stderr.write))\n\u001b[1;32m   1106\u001b[0m \u001b[0;34m\u001b[0m\u001b[0m\n\u001b[0;32m-> 1107\u001b[0;31m         \u001b[0;32mfor\u001b[0m \u001b[0mobj\u001b[0m \u001b[0;32min\u001b[0m \u001b[0miterable\u001b[0m\u001b[0;34m:\u001b[0m\u001b[0;34m\u001b[0m\u001b[0;34m\u001b[0m\u001b[0m\n\u001b[0m\u001b[1;32m   1108\u001b[0m             \u001b[0;32myield\u001b[0m \u001b[0mobj\u001b[0m\u001b[0;34m\u001b[0m\u001b[0;34m\u001b[0m\u001b[0m\n\u001b[1;32m   1109\u001b[0m             \u001b[0;31m# Update and possibly print the progressbar.\u001b[0m\u001b[0;34m\u001b[0m\u001b[0;34m\u001b[0m\u001b[0;34m\u001b[0m\u001b[0m\n",
      "\u001b[0;32m~/anaconda3/lib/python3.7/multiprocessing/pool.py\u001b[0m in \u001b[0;36mnext\u001b[0;34m(self, timeout)\u001b[0m\n\u001b[1;32m    746\u001b[0m         \u001b[0;32mif\u001b[0m \u001b[0msuccess\u001b[0m\u001b[0;34m:\u001b[0m\u001b[0;34m\u001b[0m\u001b[0;34m\u001b[0m\u001b[0m\n\u001b[1;32m    747\u001b[0m             \u001b[0;32mreturn\u001b[0m \u001b[0mvalue\u001b[0m\u001b[0;34m\u001b[0m\u001b[0;34m\u001b[0m\u001b[0m\n\u001b[0;32m--> 748\u001b[0;31m         \u001b[0;32mraise\u001b[0m \u001b[0mvalue\u001b[0m\u001b[0;34m\u001b[0m\u001b[0;34m\u001b[0m\u001b[0m\n\u001b[0m\u001b[1;32m    749\u001b[0m \u001b[0;34m\u001b[0m\u001b[0m\n\u001b[1;32m    750\u001b[0m     \u001b[0m__next__\u001b[0m \u001b[0;34m=\u001b[0m \u001b[0mnext\u001b[0m                    \u001b[0;31m# XXX\u001b[0m\u001b[0;34m\u001b[0m\u001b[0;34m\u001b[0m\u001b[0m\n",
      "\u001b[0;31mAutoReconnect\u001b[0m: connection closed"
     ]
    }
   ],
   "source": [
    "pool = Pool()\n",
    "\n",
    "for _ in tqdm(pool.imap_unordered(process_chunk, create_chunks(files)), total=len(files)):\n",
    "    pass\n",
    "\n",
    "pool.close()\n",
    "pool.join()"
   ]
  }
 ],
 "metadata": {
  "kernelspec": {
   "display_name": "Python 3.7.6 64-bit ('base': conda)",
   "language": "python",
   "name": "python37664bitbasecondaae23e32a32964a9396c6d021c6ebb9de"
  },
  "language_info": {
   "codemirror_mode": {
    "name": "ipython",
    "version": 3
   },
   "file_extension": ".py",
   "mimetype": "text/x-python",
   "name": "python",
   "nbconvert_exporter": "python",
   "pygments_lexer": "ipython3",
   "version": "3.7.6-final"
  }
 },
 "nbformat": 4,
 "nbformat_minor": 4
}