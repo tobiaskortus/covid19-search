{
 "cells": [
  {
   "cell_type": "markdown",
   "metadata": {},
   "source": [
    "# Preprocessing - Experiments\n",
    "\n",
    "- loading the required information from the json files\n",
    "- preprocessing\n",
    "- extracting key phrases"
   ]
  },
  {
   "cell_type": "markdown",
   "metadata": {},
   "source": [
    "## Requirements\n",
    "\n",
    "- nltk\n",
    "- python-rake"
   ]
  },
  {
   "cell_type": "code",
   "execution_count": 1,
   "metadata": {},
   "outputs": [
    {
     "output_type": "stream",
     "name": "stdout",
     "text": "Requirement already satisfied: python-rake in /home/tobias/.local/lib/python3.7/site-packages (1.4.5)\n"
    }
   ],
   "source": [
    "!pip3 install python-rake"
   ]
  },
  {
   "cell_type": "code",
   "execution_count": 2,
   "metadata": {},
   "outputs": [],
   "source": [
    "from __future__ import print_function\n",
    "\n",
    "import nltk\n",
    "from nltk.corpus import stopwords\n",
    "from nltk.tokenize import word_tokenize, RegexpTokenizer\n",
    "import json\n",
    "from os import getcwd\n",
    "from os import listdir\n",
    "from os.path import isfile, join\n",
    "from glob import glob\n",
    "from literature_utils import DataLoader\n",
    "import RAKE"
   ]
  },
  {
   "cell_type": "markdown",
   "metadata": {},
   "source": [
    "## Getting the test files"
   ]
  },
  {
   "cell_type": "code",
   "execution_count": 3,
   "metadata": {},
   "outputs": [],
   "source": [
    "root_path = join(getcwd(), 'CORD-19-research-challenge', 'biorxiv_medrxiv', 'biorxiv_medrxiv', 'pdf_json')\n",
    "files = glob(join(root_path, '*.json'))"
   ]
  },
  {
   "cell_type": "code",
   "execution_count": 4,
   "metadata": {},
   "outputs": [
    {
     "output_type": "stream",
     "name": "stdout",
     "text": "/home/tobias/Desktop/Advanced Data Models Projekt/CORD-19-research-challenge/biorxiv_medrxiv/biorxiv_medrxiv/pdf_json/8f5c5631cca22541a8cea87fb688b17f1266b859.json\n"
    }
   ],
   "source": [
    "print(files[0])"
   ]
  },
  {
   "cell_type": "markdown",
   "metadata": {},
   "source": [
    "## RAKE Tests"
   ]
  },
  {
   "cell_type": "code",
   "execution_count": 5,
   "metadata": {},
   "outputs": [],
   "source": [
    "rake = RAKE.Rake(join(getcwd(), 'stopwords_en.txt'))"
   ]
  },
  {
   "cell_type": "code",
   "execution_count": 6,
   "metadata": {},
   "outputs": [],
   "source": [
    "phrase_blacklist = [\n",
    "    'granted medrxiv', \n",
    "    'cc-by-nc-', \n",
    "    'author/funder', \n",
    "    'copyright holder', \n",
    "    'peer-reviewed', \n",
    "    'preprint', \n",
    "    'license', \n",
    "    'reuse allowed', \n",
    "    'rights reserved', \n",
    "    'international license', \n",
    "    'cc-by-nc', \n",
    "    '0 international license', \n",
    "    'medrxiv preprint',\n",
    "    'cc-by-nc 4']"
   ]
  },
  {
   "cell_type": "code",
   "execution_count": 10,
   "metadata": {
    "tags": [
     "outputPrepend",
     "outputPrepend",
     "outputPrepend"
    ]
   },
   "outputs": [
    {
     "output_type": "stream",
     "name": "stdout",
     "text": "Epidemiological Tools that Predict Partial Herd Immunity to SARS Coronavirus 2\n\n('sars-cov-2', 5.166666666666666)\n('herd immunity', 4.762237762237762)\n('population', 1.6363636363636365)\n('infected', 1.4444444444444444)\n('type', 1.3953488372093024)\n('spread', 1.3333333333333333)\n\n\n\nArticle type: Research Article Title: Under-the-radar dengue virus infections in natural populations of Aedes aegypti mosquitoes Running title: Dengue virus maintenance in mosquito vectors\n\n('florida', 2.176470588235294)\n\n\n\nInterferon-α2b treatment for COVID-19\n\n('ifn-α2b', 4.987240829346092)\n('covid-19 disease', 4.107843137254902)\n('cases treated', 3.75)\n('ifn', 2.303030303030303)\n('treatment', 1.8888888888888888)\n('time', 1.8181818181818181)\n('il-6', 1.8125)\n('treated', 1.5)\n('crp', 1.4)\n\n\n\nA Scalable Method of Applying Heat and Humidity for Decontamination of N95 Respirators During the COVID-19 Crisis\n\n('cc-by-nc 4', 9.0)\n('test group masks', 6.337108013937282)\n('decontamination cycles', 3.5294117647058822)\n('test', 2.1785714285714284)\n('mask', 1.7027027027027026)\n('user', 1.7)\n('masks', 1.6585365853658536)\n('cycles', 1.588235294117647)\n('humidity', 1.5555555555555556)\n('containers', 1.4)\n('made', 1.3333333333333333)\n\n\n\nHuman agency and infection rates: implications for social distancing during epidemics\n\n('cc-by-nc 4', 9.0)\n('social distancing', 4.692528735632184)\n('strong distancing', 4.4576802507836994)\n('limited distancing', 4.275862068965518)\n('infection rate', 3.9404761904761907)\n('upper limit', 3.909090909090909)\n('main group', 3.838709677419355)\n('vulnerable group', 3.7387096774193544)\n('median level', 3.5677655677655675)\n('levels', 2.107142857142857)\n('interaction', 2.0)\n('high', 1.9230769230769231)\n('model', 1.8055555555555556)\n('probability', 1.8)\n('effect', 1.7857142857142858)\n('infection', 1.75)\n('median', 1.6153846153846154)\n('capping', 1.6)\n('mortality', 1.5833333333333333)\n('activity', 1.565217391304348)\n('epidemic', 1.5384615384615385)\n('control', 1.5)\n('measures', 1.5)\n('individuals', 1.45)\n('society', 1.3333333333333333)\n\n\n\nUnderstanding the B and T cells epitopes of spike protein of severe respiratory syndrome 1 coronavirus-2: A computational way to predict the immunogens\n\n('sars-cov-2', 4.533596837944664)\n('epitopes', 2.739130434782609)\n\n\n\nAssessing the interactions between COVID-19 and influenza in the United States\n\n('covid-19 risk perception', 7.656976744186046)\n('ili dynamics', 4.41497975708502)\n('2019-2020 influenza season', 3.7082111436950145)\n('influenza season', 3.7082111436950145)\n('ili', 2.1842105263157894)\n('state', 2.1538461538461537)\n('data', 2.0833333333333335)\n('influenza', 1.935483870967742)\n('covid-19', 1.9069767441860466)\n('2019-2020 season', 1.7727272727272727)\n('expected', 1.4)\n\n\n\nInferring the presence of aflatoxin-producing Aspergillus flavus strains using 3 RNA sequencing and electronic probes as a transcriptomic screening tool 4 5 6\n\n('corn', 1.6666666666666667)\n('af70', 1.5454545454545454)\n('pdb', 1.3)\n\n\n\nDevelopment and external validation of a prognostic multivariable model on admission for hospitalized patients with COVID-19\n\n('calibration-in-the-large', 14.168831168831169)\n('lymphocyte count', 4.347222222222222)\n('d-dimer', 4.333333333333333)\n('non-survivors', 3.9583333333333335)\n('tongji hospital', 3.6842105263157894)\n('adjusted', 1.875)\n('development', 1.7894736842105263)\n('model', 1.7555555555555555)\n('hospital', 1.6842105263157894)\n('covid-19', 1.6153846153846154)\n('mortality', 1.5454545454545454)\n('variables', 1.5)\n('discrimination', 1.5)\n('patients', 1.467741935483871)\n('145 patients', 1.467741935483871)\n('cohort', 1.4375)\n\n\n\nPotent Antiviral Activities of Type I Interferons to SARS-CoV-2 Infection 1 2 3\n\n('ifn-α', 4.603174603174603)\n\n\n\n"
    }
   ],
   "source": [
    "for f in files[10:20]:\n",
    "    dl = DataLoader(f)\n",
    "    text = dl.get_full_text()\n",
    "    title = dl.get_title()\n",
    "    keyphrases = rake.run(text, minCharacters = 1, maxWords = 3, minFrequency = 5)\n",
    "    print(title + \"\\n\")\n",
    "    print(*[phrase for phrase in keyphrases if phrase[1] >= 1.3 and phrase[0] not in phrase_blacklist], sep='\\n')\n",
    "    print('\\n\\n')"
   ]
  },
  {
   "cell_type": "code",
   "execution_count": null,
   "metadata": {},
   "outputs": [],
   "source": []
  }
 ],
 "metadata": {
  "language_info": {
   "codemirror_mode": {
    "name": "ipython",
    "version": 3
   },
   "file_extension": ".py",
   "mimetype": "text/x-python",
   "name": "python",
   "nbconvert_exporter": "python",
   "pygments_lexer": "ipython3",
   "version": "3.7.3-final"
  },
  "orig_nbformat": 2,
  "kernelspec": {
   "name": "python37364bitbasecondacf887cffc5664481a4f817a59d2ce78b",
   "display_name": "Python 3.7.3 64-bit ('base': conda)"
  }
 },
 "nbformat": 4,
 "nbformat_minor": 2
}