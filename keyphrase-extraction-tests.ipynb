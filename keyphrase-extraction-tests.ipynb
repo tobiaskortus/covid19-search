{
 "cells": [
  {
   "cell_type": "markdown",
   "metadata": {},
   "source": [
    "# Preprocessing - Experiments\n",
    "\n",
    "- loading the required information from the json files\n",
    "- preprocessing\n",
    "- extracting key phrases"
   ]
  },
  {
   "cell_type": "markdown",
   "metadata": {},
   "source": [
    "## Requirements\n",
    "\n",
    "- nltk\n",
    "- python-rake"
   ]
  },
  {
   "cell_type": "code",
   "execution_count": 27,
   "metadata": {},
   "outputs": [],
   "source": [
    "%%capture\n",
    "!pip3 install python-rake\n",
    "!pip3 install git+https://github.com/boudinfl/pke.git\n",
    "\n",
    "!python -m nltk.downloader stopwords\n",
    "!python -m nltk.downloader universal_tagset\n",
    "!python -m spacy download en # download the english model"
   ]
  },
  {
   "cell_type": "code",
   "execution_count": 47,
   "metadata": {},
   "outputs": [],
   "source": [
    "from __future__ import print_function\n",
    "\n",
    "import string\n",
    "\n",
    "import json\n",
    "import os\n",
    "from os import getcwd\n",
    "from os import listdir\n",
    "from os.path import isfile, join\n",
    "from glob import glob\n",
    "\n",
    "from literature_utils import DataLoader\n",
    "\n",
    "import nltk\n",
    "from nltk.corpus import stopwords\n",
    "from nltk.tokenize import word_tokenize, RegexpTokenizer\n",
    "\n",
    "import RAKE\n",
    "from pke.unsupervised import TopicRank, MultipartiteRank\n",
    "from pke.supervised import Kea"
   ]
  },
  {
   "cell_type": "markdown",
   "metadata": {},
   "source": [
    "## Getting the test files"
   ]
  },
  {
   "cell_type": "code",
   "execution_count": 29,
   "metadata": {},
   "outputs": [],
   "source": [
    "root_path = join(getcwd(), 'dataset', 'biorxiv_medrxiv', 'biorxiv_medrxiv', 'pdf_json')\n",
    "files = glob(join(root_path, '*.json'))"
   ]
  },
  {
   "cell_type": "code",
   "execution_count": 30,
   "metadata": {},
   "outputs": [
    {
     "output_type": "stream",
     "name": "stdout",
     "text": "/home/tobias/Desktop/covid19-search/dataset/biorxiv_medrxiv/biorxiv_medrxiv/pdf_json/8f5c5631cca22541a8cea87fb688b17f1266b859.json\n"
    }
   ],
   "source": [
    "print(files[0])"
   ]
  },
  {
   "cell_type": "markdown",
   "metadata": {},
   "source": [
    "## RAKE Tests"
   ]
  },
  {
   "cell_type": "code",
   "execution_count": 31,
   "metadata": {},
   "outputs": [],
   "source": [
    "rake = RAKE.Rake(join(getcwd(), 'stopwords_en.txt'))"
   ]
  },
  {
   "cell_type": "code",
   "execution_count": 32,
   "metadata": {},
   "outputs": [],
   "source": [
    "phrase_blacklist = [\n",
    "    'granted medrxiv', \n",
    "    'cc-by-nc-', \n",
    "    'author/funder', \n",
    "    'copyright holder', \n",
    "    'peer-reviewed', \n",
    "    'preprint', \n",
    "    'license', \n",
    "    'reuse allowed', \n",
    "    'rights reserved', \n",
    "    'international license', \n",
    "    'cc-by-nc', \n",
    "    '0 international license', \n",
    "    'medrxiv preprint',\n",
    "    'cc-by-nc 4']"
   ]
  },
  {
   "cell_type": "code",
   "execution_count": 33,
   "metadata": {
    "tags": [
     "outputPrepend",
     "outputPrepend",
     "outputPrepend"
    ]
   },
   "outputs": [
    {
     "output_type": "stream",
     "name": "stdout",
     "text": "Epidemiological Tools that Predict Partial Herd Immunity to SARS Coronavirus 2\n\n('sars-cov-2', 5.166666666666666)\n('herd immunity', 4.762237762237762)\n('population', 1.6363636363636365)\n('infected', 1.4444444444444444)\n('type', 1.3953488372093024)\n('spread', 1.3333333333333333)\n\n\n\nArticle type: Research Article Title: Under-the-radar dengue virus infections in natural populations of Aedes aegypti mosquitoes Running title: Dengue virus maintenance in mosquito vectors\n\n('florida', 2.176470588235294)\n\n\n\nInterferon-α2b treatment for COVID-19\n\n('ifn-α2b', 4.987240829346092)\n('covid-19 disease', 4.107843137254902)\n('cases treated', 3.75)\n('ifn', 2.303030303030303)\n('treatment', 1.8888888888888888)\n('time', 1.8181818181818181)\n('il-6', 1.8125)\n('treated', 1.5)\n('crp', 1.4)\n\n\n\nA Scalable Method of Applying Heat and Humidity for Decontamination of N95 Respirators During the COVID-19 Crisis\n\n('test group masks', 6.337108013937282)\n('decontamination cycles', 3.5294117647058822)\n('test', 2.1785714285714284)\n('mask', 1.7027027027027026)\n('user', 1.7)\n('masks', 1.6585365853658536)\n('cycles', 1.588235294117647)\n('humidity', 1.5555555555555556)\n('containers', 1.4)\n('made', 1.3333333333333333)\n\n\n\nHuman agency and infection rates: implications for social distancing during epidemics\n\n('social distancing', 4.692528735632184)\n('strong distancing', 4.4576802507836994)\n('limited distancing', 4.275862068965518)\n('infection rate', 3.9404761904761907)\n('upper limit', 3.909090909090909)\n('main group', 3.838709677419355)\n('vulnerable group', 3.7387096774193544)\n('median level', 3.5677655677655675)\n('levels', 2.107142857142857)\n('interaction', 2.0)\n('high', 1.9230769230769231)\n('model', 1.8055555555555556)\n('probability', 1.8)\n('effect', 1.7857142857142858)\n('infection', 1.75)\n('median', 1.6153846153846154)\n('capping', 1.6)\n('mortality', 1.5833333333333333)\n('activity', 1.565217391304348)\n('epidemic', 1.5384615384615385)\n('control', 1.5)\n('measures', 1.5)\n('individuals', 1.45)\n('society', 1.3333333333333333)\n\n\n\nUnderstanding the B and T cells epitopes of spike protein of severe respiratory syndrome 1 coronavirus-2: A computational way to predict the immunogens\n\n('sars-cov-2', 4.533596837944664)\n('epitopes', 2.739130434782609)\n\n\n\nAssessing the interactions between COVID-19 and influenza in the United States\n\n('covid-19 risk perception', 7.656976744186046)\n('ili dynamics', 4.41497975708502)\n('2019-2020 influenza season', 3.7082111436950145)\n('influenza season', 3.7082111436950145)\n('ili', 2.1842105263157894)\n('state', 2.1538461538461537)\n('data', 2.0833333333333335)\n('influenza', 1.935483870967742)\n('covid-19', 1.9069767441860466)\n('2019-2020 season', 1.7727272727272727)\n('expected', 1.4)\n\n\n\nInferring the presence of aflatoxin-producing Aspergillus flavus strains using 3 RNA sequencing and electronic probes as a transcriptomic screening tool 4 5 6\n\n('corn', 1.6666666666666667)\n('af70', 1.5454545454545454)\n('pdb', 1.3)\n\n\n\nDevelopment and external validation of a prognostic multivariable model on admission for hospitalized patients with COVID-19\n\n('calibration-in-the-large', 14.168831168831169)\n('lymphocyte count', 4.347222222222222)\n('d-dimer', 4.333333333333333)\n('non-survivors', 3.9583333333333335)\n('tongji hospital', 3.6842105263157894)\n('adjusted', 1.875)\n('development', 1.7894736842105263)\n('model', 1.7555555555555555)\n('hospital', 1.6842105263157894)\n('covid-19', 1.6153846153846154)\n('mortality', 1.5454545454545454)\n('variables', 1.5)\n('discrimination', 1.5)\n('patients', 1.467741935483871)\n('145 patients', 1.467741935483871)\n('cohort', 1.4375)\n\n\n\nPotent Antiviral Activities of Type I Interferons to SARS-CoV-2 Infection 1 2 3\n\n('ifn-α', 4.603174603174603)\n\n\n\n"
    }
   ],
   "source": [
    "for f in files[10:20]:\n",
    "    dl = DataLoader(f)\n",
    "    text = dl.get_full_text()\n",
    "    title = dl.get_title()\n",
    "    keyphrases = rake.run(text, minCharacters = 1, maxWords = 3, minFrequency = 5)\n",
    "    print(title + \"\\n\")\n",
    "    print(*[phrase for phrase in keyphrases if phrase[1] >= 1.3 and phrase[0] not in phrase_blacklist], sep='\\n')\n",
    "    print('\\n\\n')"
   ]
  },
  {
   "cell_type": "markdown",
   "metadata": {},
   "source": [
    "## Topic Rank"
   ]
  },
  {
   "cell_type": "code",
   "execution_count": 34,
   "metadata": {},
   "outputs": [],
   "source": [
    "pos = {'NOUN', 'PROPN', 'ADJ'}\n"
   ]
  },
  {
   "cell_type": "code",
   "execution_count": 38,
   "metadata": {},
   "outputs": [
    {
     "output_type": "stream",
     "name": "stdout",
     "text": "Epidemiological Tools that Predict Partial Herd Immunity to SARS Coronavirus 2\n\n('cov-2', 0.0421434058456915)\n('sars coronavirus', 0.04034294873298681)\n('partial herd immunity', 0.030402656341928895)\n('country', 0.023622924405299825)\n('china', 0.017589947704040813)\n('type', 0.01747275887832254)\n('infection', 0.01735734454117719)\n('undocumented spread', 0.01676018951302783)\n('japan', 0.016263954946685262)\n('international license', 0.015512324000143112)\n\n\n\nArticle type: Research Article Title: Under-the-radar dengue virus infections in natural populations of Aedes aegypti mosquitoes Running title: Dengue virus maintenance in mosquito vectors\n\n('full genome', 0.023718981042713885)\n('fig', 0.020826097519890674)\n('manatee county', 0.020495862460642358)\n('florida', 0.019941567124249597)\n('denv4', 0.0148215591702564)\n('denv4 strain', 0.010924012689922514)\n('analysis resource', 0.010364903005669597)\n('selection pressure', 0.010100197699509733)\n('rights', 0.009923869105411353)\n('radar dengue virus infections', 0.009771070447059023)\n\n\n\nInterferon-α2b treatment for COVID-19\n\n('preprint', 0.036968895150292225)\n('ifn', 0.03402632066829697)\n('α2b treatment', 0.021270113493785645)\n('medrxiv', 0.018332904470050836)\n('license', 0.017366648028368813)\n('arb', 0.01495521453251846)\n('mild disease', 0.014896717960944321)\n('covid-19 cases', 0.014800080474863092)\n('reuse', 0.014674101087139355)\n('copyright holder', 0.01462297896862105)\n\n\n\nA Scalable Method of Applying Heat and Humidity for Decontamination of N95 Respirators During the COVID-19 Crisis\n\n('mask', 0.0677790115031855)\n('plastic container', 0.03501573922199085)\n('tests', 0.03366648180806895)\n('quantitative fit testing', 0.03083404903739986)\n('cycles', 0.02711609804527366)\n('medrxiv', 0.02269293969748217)\n('humidity', 0.019204880315736132)\n('n95 respirators', 0.0177525207343985)\n('mask filtration efficiency', 0.016661601325452163)\n('temperatures', 0.016515035625806727)\n\n\n\nHuman agency and infection rates: implications for social distancing during epidemics\n\n('medrxiv', 0.0296085065783066)\n('interaction rates', 0.024436282734103944)\n('populations', 0.022758795906853854)\n('simple theoretical model', 0.02199590979115286)\n('individuals', 0.018464590233420033)\n('infection', 0.01810635565419956)\n('international license', 0.01776672448334886)\n('group', 0.014031105866279828)\n('various scenarios', 0.013348646606916127)\n('activity', 0.013106254993628873)\n\n\n\nUnderstanding the B and T cells epitopes of spike protein of severe respiratory syndrome 1 coronavirus-2: A computational way to predict the immunogens\n\n('sars', 0.046969102899947886)\n('cov-2', 0.039696899646406776)\n('cell membrane', 0.03409610506145333)\n('peptides', 0.032267755887470696)\n('potential epitopes', 0.029373068516852483)\n('genomic sequence', 0.01971391474676085)\n('regions', 0.01811702381129884)\n('table', 0.015213211202763258)\n('affinity', 0.014797901028192062)\n('protein', 0.013669983717932915)\n\n\n\nAssessing the interactions between COVID-19 and influenza in the United States\n\n('typical influenza seasons', 0.03655339208546099)\n('covid-19', 0.02869060303394855)\n('ili', 0.026368173454742804)\n('influenza', 0.023479448827603718)\n('united states', 0.021030019215818593)\n('covid-19 risk perception', 0.020582337008741878)\n('international license', 0.016648914805626403)\n('transmission reduction', 0.01661993884297948)\n('preprint', 0.016330056213351023)\n('recent ili data', 0.015480070614700941)\n\n\n\nInferring the presence of aflatoxin-producing Aspergillus flavus strains using 3 RNA sequencing and electronic probes as a transcriptomic screening tool 4 5 6\n\n('genes', 0.03585182701957593)\n('corn', 0.02689765256960576)\n('toxigenic af70', 0.02656652030222057)\n('aflatoxin', 0.02428636600312377)\n('transcriptomic databases', 0.02205072693543162)\n('pdb', 0.020715974409395436)\n('edna', 0.017546974916199616)\n('atoxigenic af36', 0.01637840213574284)\n('preprint', 0.015907293818687326)\n('electronic probes', 0.013778277089911944)\n\n\n\nDevelopment and external validation of a prognostic multivariable model on admission for hospitalized patients with COVID-19\n\n('hospitalized patients', 0.045767836264698686)\n('medrxiv', 0.03982799084672569)\n('prognostic multivariable model', 0.033879265042649306)\n('international license', 0.019732595467278086)\n('covid-19', 0.019732512103758083)\n('mortality', 0.019108440539051683)\n('hospitals', 0.016489458823433653)\n('cohort', 0.014669953854324902)\n('study', 0.01367387675209875)\n('multivariable clinical prediction model', 0.01344275393037157)\n\n\n\nPotent Antiviral Activities of Type I Interferons to SARS-CoV-2 Infection 1 2 3\n\n('ifn', 0.06684445620756943)\n('sars', 0.04870504546359337)\n('cov-2', 0.03887534509617849)\n('viral titers', 0.03133622223314872)\n('vero cells', 0.03062838242008168)\n('treatment', 0.030419398722377557)\n('cov-2 infection', 0.025259451695536776)\n('copyright holder', 0.024915701936374778)\n('concentration', 0.024833919442128965)\n('remarkable sensitivity', 0.024653346673549945)\n\n\n\n"
    }
   ],
   "source": [
    "for f in files[10:20]:\n",
    "    dl = DataLoader(f)\n",
    "    text = dl.get_full_text()\n",
    "    title = dl.get_title()\n",
    "\n",
    "    #temporary fix\n",
    "    with open('file.txt', 'w') as tf:\n",
    "        tf.write(text)\n",
    "\n",
    "    extractor = TopicRank()\n",
    "   \n",
    "    extractor.load_document(\n",
    "        input='file.txt', \n",
    "        language='en')\n",
    "\n",
    "    extractor.candidate_selection()\n",
    "    extractor.candidate_weighting()\n",
    "    keyphrases = extractor.get_n_best(n=10)\n",
    "\n",
    "    print(f'{title}\\n')\n",
    "    print(*keyphrases, sep='\\n')\n",
    "    print('\\n\\n')\n",
    "\n",
    "#cleanup\n",
    "os.remove('file.txt')"
   ]
  },
  {
   "cell_type": "code",
   "execution_count": 42,
   "metadata": {},
   "outputs": [],
   "source": [
    "stoplist = stopwords.words('english')\n",
    "pos = {'NOUN', 'PROPN', 'ADJ'}\n",
    "grammar = \"NP: {<ADJ>*<NOUN|PROPN>+}\""
   ]
  },
  {
   "cell_type": "code",
   "execution_count": 49,
   "metadata": {},
   "outputs": [
    {
     "output_type": "stream",
     "name": "stdout",
     "text": "Epidemiological Tools that Predict Partial Herd Immunity to SARS Coronavirus 2\n\n('sars coronavirus', 0.04318112718355876)\n('cov-2', 0.03684793870593526)\n('partial herd immunity', 0.031244088589241707)\n('sars', 0.02958813510839033)\n('epidemiological tools', 0.02667781861473892)\n('china', 0.015084781853939407)\n('undocumented spread', 0.01443684288773317)\n('type', 0.013506088017896961)\n('japan', 0.012597637743229147)\n('herd immunity', 0.01102284189826849)\n\n\n\nArticle type: Research Article Title: Under-the-radar dengue virus infections in natural populations of Aedes aegypti mosquitoes Running title: Dengue virus maintenance in mosquito vectors\n\n('full genome', 0.017040716034161036)\n('florida', 0.014789719904302601)\n('fig', 0.013261347000988787)\n('manatee county', 0.01322320645479539)\n('radar dengue virus infections', 0.013094079203847583)\n('denv4', 0.01274465985802436)\n('mosquito populations', 0.011025254666028167)\n('aedes aegypti mosquitoes', 0.010138702837837892)\n('analysis resource', 0.00840622945409004)\n('sequences', 0.00756638666778413)\n\n\n\nInterferon-α2b treatment for COVID-19\n\n('ifn', 0.02886408558236708)\n('preprint', 0.027365960761602175)\n('α2b treatment', 0.02636625241275982)\n('sars', 0.01631645428370858)\n('α2b', 0.01585607018945613)\n('medrxiv', 0.013703166851520199)\n('license', 0.01315710414280826)\n('covid-19 cases', 0.012899176121020744)\n('serum cytokine levels', 0.012206425204868171)\n('mild disease', 0.012088378456416525)\n\n\n\nA Scalable Method of Applying Heat and Humidity for Decontamination of N95 Respirators During the COVID-19 Crisis\n\n('unheated masks', 0.025813689882537225)\n('mask', 0.022719070018831194)\n('masks', 0.020101182163979728)\n('fit test', 0.01823678708406526)\n('plastic container', 0.015782018041122788)\n('humidity', 0.01495228611302184)\n('mask filtration efficiency', 0.014294318921107581)\n('medrxiv', 0.013698528534159095)\n('n95 respirators', 0.013696487262225132)\n('n95 reuse strategy', 0.01311282023802071)\n\n\n\nHuman agency and infection rates: implications for social distancing during epidemics\n\n('interaction rates', 0.020966833810578532)\n('simple theoretical model', 0.020222975591162526)\n('infection rates', 0.019398521634132193)\n('medrxiv', 0.016424412394087793)\n('population', 0.015140057390862377)\n('model', 0.011055699602632632)\n('international license', 0.010844275173986779)\n('social distancing', 0.009816201791859224)\n('individuals', 0.008708976551241662)\n('infection', 0.008398363381648325)\n\n\n\nUnderstanding the B and T cells epitopes of spike protein of severe respiratory syndrome 1 coronavirus-2: A computational way to predict the immunogens\n\n('sars', 0.03880138808914623)\n('cov-2', 0.032093003824685044)\n('cell epitopes', 0.02790670955472534)\n('peptides', 0.013741505972268484)\n('regions', 0.012797214861206743)\n('protein variability server', 0.01135159020868215)\n('potential target', 0.011005445389315274)\n('peptide stretches', 0.010964583041110997)\n('protein', 0.010070872332186575)\n('table', 0.0098849549751997)\n\n\n\nAssessing the interactions between COVID-19 and influenza in the United States\n\n('influenza', 0.03808478021350113)\n('covid-19', 0.025553675217976194)\n('ili', 0.020276791893045824)\n('covid-19 risk perception', 0.016448367614451787)\n('transmission', 0.012346016920358902)\n('recent ili data', 0.011432409791652165)\n('unexpected trends', 0.011081070913627134)\n('united states', 0.01084740881612998)\n('typical influenza seasons', 0.010749423140694277)\n('influenza season', 0.009879368953895773)\n\n\n\nInferring the presence of aflatoxin-producing Aspergillus flavus strains using 3 RNA sequencing and electronic probes as a transcriptomic screening tool 4 5 6\n\n('aflatoxin', 0.023443831356090513)\n('toxigenic af70', 0.022851494125210127)\n('transcriptomic screening tool', 0.02137736209626386)\n('corn', 0.020972707382856615)\n('electronic probes', 0.018347206901411117)\n('genes', 0.017786295902598986)\n('af70', 0.017080578929263474)\n('edna', 0.016503067356981392)\n('pdb', 0.015325307570714429)\n('atoxigenic af36', 0.014729691817394329)\n\n\n\nDevelopment and external validation of a prognostic multivariable model on admission for hospitalized patients with COVID-19\n\n('hospitalized patients', 0.03939105556685721)\n('prognostic multivariable model', 0.03431028369301275)\n('patients', 0.027674464139692254)\n('medrxiv', 0.02484012640938335)\n('covid-19', 0.023614632034613794)\n('admission', 0.014839935639520515)\n('mortality', 0.0145047829759244)\n('international license', 0.01437386716617927)\n('development', 0.013589330309387792)\n('model', 0.011768448684131908)\n\n\n\nPotent Antiviral Activities of Type I Interferons to SARS-CoV-2 Infection 1 2 3\n\n('ifn', 0.059824907676591425)\n('sars', 0.04496313341252379)\n('cov-2', 0.03316714801935539)\n('cov-2 infection', 0.023382124766694896)\n('treatment', 0.022688190014478166)\n('vero cells', 0.02181895850322666)\n('covid-19', 0.021803095166526777)\n('viral titers', 0.01990357924859225)\n('copyright holder', 0.019143943454763418)\n('preprint', 0.018329753420351345)\n\n\n\n"
    }
   ],
   "source": [
    "for f in files[10:20]:\n",
    "    dl = DataLoader(f)\n",
    "    text = dl.get_full_text()\n",
    "    title = dl.get_title()\n",
    "\n",
    "    #temporary fix\n",
    "    with open('file.txt', 'w') as tf:\n",
    "        tf.write(text)\n",
    "\n",
    "    extractor = MultipartiteRank()\n",
    "   \n",
    "    extractor.load_document(\n",
    "        input='file.txt', \n",
    "        language='en',\n",
    "        normalization=None)\n",
    "\n",
    "    pos = {'NOUN', 'PROPN', 'ADJ'}\n",
    "    stoplist = list(string.punctuation)\n",
    "    stoplist += ['-lrb-', '-rrb-', '-lcb-', '-rcb-', '-lsb-', '-rsb-']\n",
    "    stoplist += stopwords.words('english')\n",
    "    extractor.candidate_selection(pos=pos, stoplist=stoplist)\n",
    "\n",
    "    extractor.candidate_weighting(alpha=1.1,\n",
    "                              threshold=0.74,\n",
    "                              method='average')\n",
    "\n",
    "    keyphrases = extractor.get_n_best(n=10)\n",
    "\n",
    "\n",
    "    print(f'{title}\\n')\n",
    "    print(*[keyphrase for keyphrase in  keyphrases if keyphrase not in phrase_blacklist], sep='\\n')\n",
    "    print('\\n\\n')\n",
    "\n",
    "#cleanup\n",
    "os.remove('file.txt')"
   ]
  },
  {
   "cell_type": "code",
   "execution_count": null,
   "metadata": {},
   "outputs": [],
   "source": []
  }
 ],
 "metadata": {
  "language_info": {
   "codemirror_mode": {
    "name": "ipython",
    "version": 3
   },
   "file_extension": ".py",
   "mimetype": "text/x-python",
   "name": "python",
   "nbconvert_exporter": "python",
   "pygments_lexer": "ipython3",
   "version": "3.7.3-final"
  },
  "orig_nbformat": 2,
  "kernelspec": {
   "name": "python37364bitbasecondacf887cffc5664481a4f817a59d2ce78b",
   "display_name": "Python 3.7.3 64-bit ('base': conda)"
  }
 },
 "nbformat": 4,
 "nbformat_minor": 2
}