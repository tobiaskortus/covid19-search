{
 "cells": [
  {
   "cell_type": "code",
   "execution_count": 28,
   "metadata": {},
   "outputs": [],
   "source": [
    "from __future__ import print_function\n",
    "\n",
    "import numpy as np\n",
    "import pandas as pd\n",
    "\n",
    "from os import getcwd\n",
    "from os.path import join, basename\n",
    "\n",
    "from utils.literature import DataLoader\n",
    "from glob import glob\n",
    "\n",
    "import nltk\n",
    "from nltk.corpus import stopwords\n",
    "from nltk.tokenize import word_tokenize "
   ]
  },
  {
   "cell_type": "markdown",
   "metadata": {},
   "source": [
    "nltk.download()"
   ]
  },
  {
   "cell_type": "code",
   "execution_count": 3,
   "metadata": {},
   "outputs": [],
   "source": [
    "cwd = getcwd()\n",
    "\n",
    "json_paths = [\n",
    "    join(cwd, 'dataset', 'arxiv', 'arxiv', 'pdf_json'),\n",
    "    join(cwd, 'dataset', 'arxiv', 'arxiv', 'pdf_json'),\n",
    "    join(cwd, 'dataset', 'comm_use_subset', 'comm_use_subset', 'pdf_json'),\n",
    "    join(cwd, 'dataset', 'noncomm_use_subset', 'noncomm_use_subset', 'pdf_json'),\n",
    "    join(cwd, 'dataset', 'custom_license', 'custom_license', 'pdf_json'),\n",
    "    join(cwd, 'dataset' 'biorxiv_medrxiv', 'biorxiv_medrxiv', 'pdf_json'),\n",
    "]\n",
    "\n",
    "files = []\n",
    "[files.extend(glob(join(path, '*.json'))) for path in json_paths];"
   ]
  },
  {
   "cell_type": "code",
   "execution_count": 4,
   "metadata": {},
   "outputs": [],
   "source": [
    "metadata = pd.read_csv(join(getcwd(), 'dataset', 'metadata.csv'))"
   ]
  },
  {
   "cell_type": "code",
   "execution_count": 5,
   "metadata": {},
   "outputs": [],
   "source": [
    "metadata['doc_id'] = np.arange(len(metadata))"
   ]
  },
  {
   "cell_type": "code",
   "execution_count": 6,
   "metadata": {},
   "outputs": [
    {
     "data": {
      "text/html": [
       "<div>\n",
       "<style scoped>\n",
       "    .dataframe tbody tr th:only-of-type {\n",
       "        vertical-align: middle;\n",
       "    }\n",
       "\n",
       "    .dataframe tbody tr th {\n",
       "        vertical-align: top;\n",
       "    }\n",
       "\n",
       "    .dataframe thead th {\n",
       "        text-align: right;\n",
       "    }\n",
       "</style>\n",
       "<table border=\"1\" class=\"dataframe\">\n",
       "  <thead>\n",
       "    <tr style=\"text-align: right;\">\n",
       "      <th></th>\n",
       "      <th>cord_uid</th>\n",
       "      <th>sha</th>\n",
       "      <th>source_x</th>\n",
       "      <th>title</th>\n",
       "      <th>doi</th>\n",
       "      <th>pmcid</th>\n",
       "      <th>pubmed_id</th>\n",
       "      <th>license</th>\n",
       "      <th>abstract</th>\n",
       "      <th>publish_time</th>\n",
       "      <th>authors</th>\n",
       "      <th>journal</th>\n",
       "      <th>Microsoft Academic Paper ID</th>\n",
       "      <th>WHO #Covidence</th>\n",
       "      <th>arxiv_id</th>\n",
       "      <th>has_pdf_parse</th>\n",
       "      <th>has_pmc_xml_parse</th>\n",
       "      <th>full_text_file</th>\n",
       "      <th>url</th>\n",
       "      <th>doc_id</th>\n",
       "    </tr>\n",
       "  </thead>\n",
       "  <tbody>\n",
       "    <tr>\n",
       "      <th>0</th>\n",
       "      <td>zjufx4fo</td>\n",
       "      <td>b2897e1277f56641193a6db73825f707eed3e4c9</td>\n",
       "      <td>PMC</td>\n",
       "      <td>Sequence requirements for RNA strand transfer ...</td>\n",
       "      <td>10.1093/emboj/20.24.7220</td>\n",
       "      <td>PMC125340</td>\n",
       "      <td>11742998.0</td>\n",
       "      <td>unk</td>\n",
       "      <td>Nidovirus subgenomic mRNAs contain a leader se...</td>\n",
       "      <td>2001-12-17</td>\n",
       "      <td>Pasternak, Alexander O.; van den Born, Erwin; ...</td>\n",
       "      <td>The EMBO Journal</td>\n",
       "      <td>NaN</td>\n",
       "      <td>NaN</td>\n",
       "      <td>NaN</td>\n",
       "      <td>True</td>\n",
       "      <td>True</td>\n",
       "      <td>custom_license</td>\n",
       "      <td>http://europepmc.org/articles/pmc125340?pdf=re...</td>\n",
       "      <td>0</td>\n",
       "    </tr>\n",
       "    <tr>\n",
       "      <th>1</th>\n",
       "      <td>ymceytj3</td>\n",
       "      <td>e3d0d482ebd9a8ba81c254cc433f314142e72174</td>\n",
       "      <td>PMC</td>\n",
       "      <td>Crystal structure of murine sCEACAM1a[1,4]: a ...</td>\n",
       "      <td>10.1093/emboj/21.9.2076</td>\n",
       "      <td>PMC125375</td>\n",
       "      <td>11980704.0</td>\n",
       "      <td>unk</td>\n",
       "      <td>CEACAM1 is a member of the carcinoembryonic an...</td>\n",
       "      <td>2002-05-01</td>\n",
       "      <td>Tan, Kemin; Zelus, Bruce D.; Meijers, Rob; Liu...</td>\n",
       "      <td>The EMBO Journal</td>\n",
       "      <td>NaN</td>\n",
       "      <td>NaN</td>\n",
       "      <td>NaN</td>\n",
       "      <td>True</td>\n",
       "      <td>True</td>\n",
       "      <td>custom_license</td>\n",
       "      <td>http://europepmc.org/articles/pmc125375?pdf=re...</td>\n",
       "      <td>1</td>\n",
       "    </tr>\n",
       "  </tbody>\n",
       "</table>\n",
       "</div>"
      ],
      "text/plain": [
       "   cord_uid                                       sha source_x  \\\n",
       "0  zjufx4fo  b2897e1277f56641193a6db73825f707eed3e4c9      PMC   \n",
       "1  ymceytj3  e3d0d482ebd9a8ba81c254cc433f314142e72174      PMC   \n",
       "\n",
       "                                               title  \\\n",
       "0  Sequence requirements for RNA strand transfer ...   \n",
       "1  Crystal structure of murine sCEACAM1a[1,4]: a ...   \n",
       "\n",
       "                        doi      pmcid   pubmed_id license  \\\n",
       "0  10.1093/emboj/20.24.7220  PMC125340  11742998.0     unk   \n",
       "1   10.1093/emboj/21.9.2076  PMC125375  11980704.0     unk   \n",
       "\n",
       "                                            abstract publish_time  \\\n",
       "0  Nidovirus subgenomic mRNAs contain a leader se...   2001-12-17   \n",
       "1  CEACAM1 is a member of the carcinoembryonic an...   2002-05-01   \n",
       "\n",
       "                                             authors           journal  \\\n",
       "0  Pasternak, Alexander O.; van den Born, Erwin; ...  The EMBO Journal   \n",
       "1  Tan, Kemin; Zelus, Bruce D.; Meijers, Rob; Liu...  The EMBO Journal   \n",
       "\n",
       "   Microsoft Academic Paper ID WHO #Covidence arxiv_id  has_pdf_parse  \\\n",
       "0                          NaN            NaN      NaN           True   \n",
       "1                          NaN            NaN      NaN           True   \n",
       "\n",
       "   has_pmc_xml_parse  full_text_file  \\\n",
       "0               True  custom_license   \n",
       "1               True  custom_license   \n",
       "\n",
       "                                                 url  doc_id  \n",
       "0  http://europepmc.org/articles/pmc125340?pdf=re...       0  \n",
       "1  http://europepmc.org/articles/pmc125375?pdf=re...       1  "
      ]
     },
     "execution_count": 6,
     "metadata": {},
     "output_type": "execute_result"
    }
   ],
   "source": [
    "metadata.head(2)"
   ]
  },
  {
   "cell_type": "code",
   "execution_count": 21,
   "metadata": {},
   "outputs": [
    {
     "data": {
      "text/plain": [
       "'Information theory-based algorithm for in silico prediction of PCR products with whole genomic sequences as templates'"
      ]
     },
     "execution_count": 21,
     "metadata": {},
     "output_type": "execute_result"
    }
   ],
   "source": [
    "doc_idxs = dict(zip(metadata['doc_id'], metadata['title']))\n",
    "doc_idxs[100]"
   ]
  },
  {
   "cell_type": "code",
   "execution_count": 22,
   "metadata": {},
   "outputs": [],
   "source": [
    "stop_words = set(stopwords.words('english'))"
   ]
  },
  {
   "cell_type": "code",
   "execution_count": 23,
   "metadata": {},
   "outputs": [],
   "source": [
    "def get_metadata(metadata, fpath):\n",
    "    sha = basename(fpath[0])[:-5]\n",
    "    return metadata.loc[metadata['sha'] == sha]"
   ]
  },
  {
   "cell_type": "code",
   "execution_count": 24,
   "metadata": {},
   "outputs": [],
   "source": [
    "def get_full_text(fpath):\n",
    "    dl = DataLoader(fpath)\n",
    "    return dl.get_full_text()"
   ]
  },
  {
   "cell_type": "code",
   "execution_count": 25,
   "metadata": {},
   "outputs": [],
   "source": [
    "word_idxs = dict()"
   ]
  },
  {
   "cell_type": "code",
   "execution_count": 29,
   "metadata": {
    "tags": [
     "outputPrepend",
     "outputPrepend",
     "outputPrepend",
     "outputPrepend",
     "outputPrepend",
     "outputPrepend",
     "outputPrepend",
     "outputPrepend",
     "outputPrepend",
     "outputPrepend"
    ]
   },
   "outputs": [
    {
     "name": "stdout",
     "output_type": "stream",
     "text": [
      "46526 of 4652846527 of 46528"
     ]
    }
   ],
   "source": [
    "for i, fpath in enumerate(files):\n",
    "    print (f\"{i} of {len(files)} files processed\", end=\"\\r\")\n",
    "\n",
    "    #get the corresponding metadata\n",
    "    doc_meta = get_metadata(metadata, fpath)\n",
    "    doc_id = doc_meta['doc_id']\n",
    "    \n",
    "    #preprocessing\n",
    "    tokens = word_tokenize(get_full_text(fpath))\n",
    "    filtered_tokens = [w for w in tokens if not w in stop_words] \n",
    "\n",
    "    for token in filtered_tokens:\n",
    "        if token not in word_idxs.keys():\n",
    "            word_idxs[token] = len(word_idxs)"
   ]
  },
  {
   "cell_type": "code",
   "execution_count": 32,
   "metadata": {
    "tags": [
     "outputPrepend"
    ]
   },
   "outputs": [
    {
     "data": {
      "text/plain": [
       "2668371"
      ]
     },
     "execution_count": 32,
     "metadata": {},
     "output_type": "execute_result"
    }
   ],
   "source": [
    "len(word_idxs)"
   ]
  },
  {
   "cell_type": "code",
   "execution_count": 31,
   "metadata": {},
   "outputs": [
    {
     "data": {
      "text/plain": [
       "3983"
      ]
     },
     "execution_count": 31,
     "metadata": {},
     "output_type": "execute_result"
    }
   ],
   "source": [
    "word_idxs['sars-cov-2']"
   ]
  }
 ],
 "metadata": {
  "kernelspec": {
   "display_name": "Python 3.7.6 64-bit ('base': conda)",
   "language": "python",
   "name": "python37664bitbasecondaae23e32a32964a9396c6d021c6ebb9de"
  },
  "language_info": {
   "codemirror_mode": {
    "name": "ipython",
    "version": 3
   },
   "file_extension": ".py",
   "mimetype": "text/x-python",
   "name": "python",
   "nbconvert_exporter": "python",
   "pygments_lexer": "ipython3",
   "version": "3.7.6"
  }
 },
 "nbformat": 4,
 "nbformat_minor": 4
}
